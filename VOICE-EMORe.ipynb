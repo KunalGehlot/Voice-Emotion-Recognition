{
 "cells": [
  {
   "cell_type": "code",
   "execution_count": 1,
   "metadata": {},
   "outputs": [],
   "source": [
    "########################################################################\n",
    "#    July 22, 2019                                                     #\n",
    "#    16:50                                                             #\n",
    "#    Created by: Kunal Gehlot                                          #\n",
    "########################################################################"
   ]
  },
  {
   "cell_type": "code",
   "execution_count": 1,
   "metadata": {},
   "outputs": [
    {
     "name": "stderr",
     "output_type": "stream",
     "text": [
      "Using TensorFlow backend.\n"
     ]
    }
   ],
   "source": [
    "import librosa\n",
    "import librosa.display\n",
    "import numpy as np\n",
    "import matplotlib.pyplot as plt\n",
    "import tensorflow as tf\n",
    "import os\n",
    "import pandas as pd\n",
    "import matplotlib.pyplot as plt\n",
    "import numpy as np\n",
    "import sys\n",
    "import glob \n",
    "import warnings\n",
    "import keras\n",
    "from keras.preprocessing import sequence\n",
    "from keras.models import Sequential\n",
    "from keras.layers import Dense, Embedding\n",
    "from keras.layers import LSTM\n",
    "from keras.preprocessing.text import Tokenizer\n",
    "from keras.preprocessing.sequence import pad_sequences\n",
    "from keras.utils import to_categorical\n",
    "from keras.layers import Input, Flatten, Dropout, Activation\n",
    "from keras.layers import Conv2D, Conv1D, MaxPooling2D, AveragePooling1D\n",
    "from keras.layers.normalization import BatchNormalization\n",
    "from keras.models import Model\n",
    "from keras import regularizers\n",
    "from keras.optimizers import Adam\n",
    "from keras.regularizers import l2\n",
    "from keras.callbacks import ModelCheckpoint\n",
    "from sklearn.preprocessing import LabelEncoder\n",
    "from sklearn.metrics import confusion_matrix\n",
    "from sklearn.utils import shuffle\n",
    "from sklearn.model_selection import train_test_split\n",
    "from sklearn.ensemble import RandomForestClassifier\n",
    "from sklearn.neighbors import KNeighborsClassifier\n",
    "from tensorflow.contrib.tensor_forest.python import tensor_forest\n",
    "from tensorflow.python.ops import resources\n",
    "from tqdm import tqdm\n",
    "from matplotlib.pyplot import specgram\n",
    "from typing import Tuple\n",
    "# import scipy.io.wavfile as wav\n",
    "# from speechpy.feature import mfcc\n",
    "warnings.filterwarnings(\"ignore\")"
   ]
  },
  {
   "cell_type": "code",
   "execution_count": 2,
   "metadata": {},
   "outputs": [],
   "source": [
    "dataList = os.listdir('D:/RawData')"
   ]
  },
  {
   "cell_type": "code",
   "execution_count": 3,
   "metadata": {},
   "outputs": [],
   "source": [
    "classLabels = ('Angry', 'Fear', 'Disgust', 'Happy', 'Sad', 'Surprised', 'Neutral')"
   ]
  },
  {
   "cell_type": "code",
   "execution_count": 4,
   "metadata": {},
   "outputs": [],
   "source": [
    "data = []\n",
    "labels = []\n",
    "names = []"
   ]
  },
  {
   "cell_type": "code",
   "execution_count": 5,
   "metadata": {},
   "outputs": [
    {
     "name": "stderr",
     "output_type": "stream",
     "text": [
      "100%|██████████| 1920/1920 [04:06<00:00,  7.79it/s]\n"
     ]
    }
   ],
   "source": [
    "for number, path in enumerate(tqdm(dataList)):\n",
    "    X, sample_rate = librosa.load('D:/RawData/'+path, res_type='kaiser_best',duration=2.5,sr=22050*2,offset=0.5)\n",
    "    sample_rate = np.array(sample_rate)\n",
    "    mfccs = librosa.feature.mfcc(y=X, sr=sample_rate, n_mfcc=39)\n",
    "    feature = mfccs\n",
    "    data.append(feature)\n",
    "    \n",
    "    if path[6:8] == '01' or path[0:1] == 'n':\n",
    "        labels.append(6)\n",
    "    if path[6:8] == '02':\n",
    "        labels.append(6)\n",
    "    if path[6:8] == '03' or path[0:1] == 'h':\n",
    "        labels.append(3)\n",
    "    if path[6:8] == '04' or path[0:2] == 'sa':\n",
    "        labels.append(4)\n",
    "    if path[6:8] == '05' or path[0:1] == 'a':\n",
    "        labels.append(0)\n",
    "    if path[6:8] == '06' or path[0:1] == 'f':\n",
    "        labels.append(1)\n",
    "    if path[6:8] == '07' or path[0:1] == 'd':\n",
    "        labels.append(2)\n",
    "    if path[6:8] == '08' or path[0:2] == 'su':\n",
    "        labels.append(5)\n",
    "    \n",
    "    \n",
    "    names.append(path)\n",
    "#     break"
   ]
  },
  {
   "cell_type": "code",
   "execution_count": 6,
   "metadata": {},
   "outputs": [
    {
     "data": {
      "text/plain": [
       "(39, 216)"
      ]
     },
     "execution_count": 6,
     "metadata": {},
     "output_type": "execute_result"
    }
   ],
   "source": [
    "feature.shape"
   ]
  },
  {
   "cell_type": "code",
   "execution_count": 7,
   "metadata": {},
   "outputs": [],
   "source": [
    "DATA = np.zeros((1920,39,216))"
   ]
  },
  {
   "cell_type": "code",
   "execution_count": 14,
   "metadata": {},
   "outputs": [
    {
     "name": "stderr",
     "output_type": "stream",
     "text": [
      "100%|██████████| 1920/1920 [00:16<00:00, 113.71it/s]\n"
     ]
    }
   ],
   "source": [
    "for i in tqdm(range(0, 1920)):\n",
    "    for j in range(0, 39):\n",
    "        for k in range(0, 216):\n",
    "#             print(i)\n",
    "#             print(j)\n",
    "#             print(k)\n",
    "            temp = data[i]\n",
    "            temp2 = temp[j]\n",
    "            if (k >= len(temp2)):\n",
    "                continue\n",
    "            else:\n",
    "                temp3 = temp2[k]\n",
    "            DATA[i][j][k] = float(temp3)"
   ]
  },
  {
   "cell_type": "code",
   "execution_count": 15,
   "metadata": {},
   "outputs": [],
   "source": [
    "DATA = np.array(DATA)"
   ]
  },
  {
   "cell_type": "code",
   "execution_count": 16,
   "metadata": {},
   "outputs": [
    {
     "data": {
      "text/plain": [
       "(1920, 39, 216)"
      ]
     },
     "execution_count": 16,
     "metadata": {},
     "output_type": "execute_result"
    }
   ],
   "source": [
    "DATA.shape"
   ]
  },
  {
   "cell_type": "code",
   "execution_count": 21,
   "metadata": {},
   "outputs": [],
   "source": [
    "labels = np.array(labels)"
   ]
  },
  {
   "cell_type": "code",
   "execution_count": 22,
   "metadata": {},
   "outputs": [
    {
     "data": {
      "text/plain": [
       "1920"
      ]
     },
     "execution_count": 22,
     "metadata": {},
     "output_type": "execute_result"
    }
   ],
   "source": [
    "len(labels)"
   ]
  },
  {
   "cell_type": "code",
   "execution_count": 23,
   "metadata": {},
   "outputs": [],
   "source": [
    "X_train, X_test, Y_train, Y_test = train_test_split(DATA, labels, test_size=0.3, random_state=42)"
   ]
  },
  {
   "cell_type": "code",
   "execution_count": 24,
   "metadata": {},
   "outputs": [],
   "source": [
    "X_train = np.array(X_train)"
   ]
  },
  {
   "cell_type": "code",
   "execution_count": 25,
   "metadata": {},
   "outputs": [],
   "source": [
    "X_test = np.array(X_test)"
   ]
  },
  {
   "cell_type": "code",
   "execution_count": 26,
   "metadata": {},
   "outputs": [],
   "source": [
    "Y_train = np.array(Y_train)"
   ]
  },
  {
   "cell_type": "code",
   "execution_count": 27,
   "metadata": {},
   "outputs": [],
   "source": [
    "Y_test = np.array(Y_test)"
   ]
  },
  {
   "cell_type": "code",
   "execution_count": 28,
   "metadata": {},
   "outputs": [],
   "source": [
    "numLabels = len(classLabels)"
   ]
  },
  {
   "cell_type": "code",
   "execution_count": 29,
   "metadata": {},
   "outputs": [],
   "source": [
    "Y_train = to_categorical(Y_train)"
   ]
  },
  {
   "cell_type": "code",
   "execution_count": 30,
   "metadata": {},
   "outputs": [],
   "source": [
    "Y_test = to_categorical(Y_test)"
   ]
  },
  {
   "cell_type": "code",
   "execution_count": 31,
   "metadata": {},
   "outputs": [],
   "source": [
    "in_shape = X_train[0].shape\n",
    "X_train = X_train.reshape(X_train.shape[0], in_shape[0], in_shape[1], 1)\n",
    "X_test = X_test.reshape(X_test.shape[0], in_shape[0], in_shape[1], 1)"
   ]
  },
  {
   "cell_type": "code",
   "execution_count": 32,
   "metadata": {},
   "outputs": [
    {
     "data": {
      "text/plain": [
       "(39, 216)"
      ]
     },
     "execution_count": 32,
     "metadata": {},
     "output_type": "execute_result"
    }
   ],
   "source": [
    "in_shape"
   ]
  },
  {
   "cell_type": "code",
   "execution_count": 33,
   "metadata": {},
   "outputs": [],
   "source": [
    "model = Sequential()"
   ]
  },
  {
   "cell_type": "code",
   "execution_count": 34,
   "metadata": {},
   "outputs": [
    {
     "name": "stdout",
     "output_type": "stream",
     "text": [
      "WARNING:tensorflow:From C:\\Users\\Gehlo\\Anaconda3\\lib\\site-packages\\tensorflow\\python\\framework\\op_def_library.py:263: colocate_with (from tensorflow.python.framework.ops) is deprecated and will be removed in a future version.\n",
      "Instructions for updating:\n",
      "Colocations handled automatically by placer.\n",
      "WARNING:tensorflow:From C:\\Users\\Gehlo\\Anaconda3\\lib\\site-packages\\keras\\backend\\tensorflow_backend.py:3445: calling dropout (from tensorflow.python.ops.nn_ops) with keep_prob is deprecated and will be removed in a future version.\n",
      "Instructions for updating:\n",
      "Please use `rate` instead of `keep_prob`. Rate should be set to `rate = 1 - keep_prob`.\n"
     ]
    }
   ],
   "source": [
    "model.add(Conv2D(8, (13, 13), input_shape=(in_shape[0], in_shape[1], 1)))\n",
    "model.add(BatchNormalization(axis=-1))\n",
    "model.add(Activation('relu'))\n",
    "model.add(Conv2D(8, (13, 13)))\n",
    "model.add(BatchNormalization(axis=-1))\n",
    "model.add(Activation('relu'))\n",
    "model.add(MaxPooling2D(pool_size=(2, 1)))\n",
    "model.add(Conv2D(8, (3, 3)))\n",
    "model.add(BatchNormalization(axis=-1))\n",
    "model.add(Activation('relu'))\n",
    "model.add(Conv2D(8, (1, 1)))\n",
    "model.add(BatchNormalization(axis=-1))\n",
    "model.add(Activation('relu'))\n",
    "model.add(MaxPooling2D(pool_size=(2, 1)))\n",
    "model.add(Flatten())\n",
    "model.add(Dense(64))\n",
    "model.add(BatchNormalization())\n",
    "model.add(Activation('relu'))\n",
    "model.add(Dropout(0.2))"
   ]
  },
  {
   "cell_type": "code",
   "execution_count": 35,
   "metadata": {},
   "outputs": [
    {
     "name": "stdout",
     "output_type": "stream",
     "text": [
      "_________________________________________________________________\n",
      "Layer (type)                 Output Shape              Param #   \n",
      "=================================================================\n",
      "conv2d_1 (Conv2D)            (None, 27, 204, 8)        1360      \n",
      "_________________________________________________________________\n",
      "batch_normalization_1 (Batch (None, 27, 204, 8)        32        \n",
      "_________________________________________________________________\n",
      "activation_1 (Activation)    (None, 27, 204, 8)        0         \n",
      "_________________________________________________________________\n",
      "conv2d_2 (Conv2D)            (None, 15, 192, 8)        10824     \n",
      "_________________________________________________________________\n",
      "batch_normalization_2 (Batch (None, 15, 192, 8)        32        \n",
      "_________________________________________________________________\n",
      "activation_2 (Activation)    (None, 15, 192, 8)        0         \n",
      "_________________________________________________________________\n",
      "max_pooling2d_1 (MaxPooling2 (None, 7, 192, 8)         0         \n",
      "_________________________________________________________________\n",
      "conv2d_3 (Conv2D)            (None, 5, 190, 8)         584       \n",
      "_________________________________________________________________\n",
      "batch_normalization_3 (Batch (None, 5, 190, 8)         32        \n",
      "_________________________________________________________________\n",
      "activation_3 (Activation)    (None, 5, 190, 8)         0         \n",
      "_________________________________________________________________\n",
      "conv2d_4 (Conv2D)            (None, 5, 190, 8)         72        \n",
      "_________________________________________________________________\n",
      "batch_normalization_4 (Batch (None, 5, 190, 8)         32        \n",
      "_________________________________________________________________\n",
      "activation_4 (Activation)    (None, 5, 190, 8)         0         \n",
      "_________________________________________________________________\n",
      "max_pooling2d_2 (MaxPooling2 (None, 2, 190, 8)         0         \n",
      "_________________________________________________________________\n",
      "flatten_1 (Flatten)          (None, 3040)              0         \n",
      "_________________________________________________________________\n",
      "dense_1 (Dense)              (None, 64)                194624    \n",
      "_________________________________________________________________\n",
      "batch_normalization_5 (Batch (None, 64)                256       \n",
      "_________________________________________________________________\n",
      "activation_5 (Activation)    (None, 64)                0         \n",
      "_________________________________________________________________\n",
      "dropout_1 (Dropout)          (None, 64)                0         \n",
      "_________________________________________________________________\n",
      "dense_2 (Dense)              (None, 7)                 455       \n",
      "=================================================================\n",
      "Total params: 208,303\n",
      "Trainable params: 208,111\n",
      "Non-trainable params: 192\n",
      "_________________________________________________________________\n"
     ]
    },
    {
     "name": "stderr",
     "output_type": "stream",
     "text": [
      "None\n"
     ]
    }
   ],
   "source": [
    "model.add(Dense(numLabels, activation='softmax'))\n",
    "model.compile(loss='binary_crossentropy', optimizer='adam',\n",
    "                           metrics=['accuracy'])\n",
    "print(model.summary(), file=sys.stderr)"
   ]
  },
  {
   "cell_type": "code",
   "execution_count": 36,
   "metadata": {},
   "outputs": [],
   "source": [
    "best_acc = 0\n",
    "epochs = 50"
   ]
  },
  {
   "cell_type": "code",
   "execution_count": 37,
   "metadata": {
    "collapsed": true,
    "jupyter": {
     "outputs_hidden": true
    }
   },
   "outputs": [
    {
     "name": "stderr",
     "output_type": "stream",
     "text": [
      "  0%|          | 0/50 [00:00<?, ?it/s]"
     ]
    },
    {
     "name": "stdout",
     "output_type": "stream",
     "text": [
      "WARNING:tensorflow:From C:\\Users\\Gehlo\\Anaconda3\\lib\\site-packages\\tensorflow\\python\\ops\\math_ops.py:3066: to_int32 (from tensorflow.python.ops.math_ops) is deprecated and will be removed in a future version.\n",
      "Instructions for updating:\n",
      "Use tf.cast instead.\n",
      "Epoch 1/1\n",
      "1344/1344 [==============================] - ETA: 1:58 - loss: 0.4589 - acc: 0.843 - ETA: 38s - loss: 0.4649 - acc: 0.839 - ETA: 22s - loss: 0.4653 - acc: 0.84 - ETA: 15s - loss: 0.4572 - acc: 0.84 - ETA: 11s - loss: 0.4486 - acc: 0.84 - ETA: 9s - loss: 0.4464 - acc: 0.8442 - ETA: 7s - loss: 0.4387 - acc: 0.845 - ETA: 6s - loss: 0.4282 - acc: 0.846 - ETA: 5s - loss: 0.4194 - acc: 0.848 - ETA: 4s - loss: 0.4133 - acc: 0.848 - ETA: 3s - loss: 0.4118 - acc: 0.848 - ETA: 2s - loss: 0.4089 - acc: 0.848 - ETA: 2s - loss: 0.4064 - acc: 0.849 - ETA: 2s - loss: 0.4097 - acc: 0.848 - ETA: 1s - loss: 0.4084 - acc: 0.849 - ETA: 1s - loss: 0.4079 - acc: 0.849 - ETA: 1s - loss: 0.4086 - acc: 0.849 - ETA: 0s - loss: 0.4051 - acc: 0.849 - ETA: 0s - loss: 0.4021 - acc: 0.850 - ETA: 0s - loss: 0.3981 - acc: 0.852 - ETA: 0s - loss: 0.3963 - acc: 0.852 - 4s 3ms/step - loss: 0.3967 - acc: 0.8521\n",
      "576/576 [==============================] - ETA:  - ETA:  - ETA:  - ETA:  - 0s 577us/step\n"
     ]
    },
    {
     "name": "stderr",
     "output_type": "stream",
     "text": [
      "  2%|▏         | 1/50 [00:05<04:34,  5.60s/it]"
     ]
    },
    {
     "name": "stdout",
     "output_type": "stream",
     "text": [
      "Epoch 1/1\n",
      "1344/1344 [==============================] - ETA: 1s - loss: 0.2793 - acc: 0.892 - ETA: 1s - loss: 0.3387 - acc: 0.863 - ETA: 1s - loss: 0.3144 - acc: 0.873 - ETA: 1s - loss: 0.3055 - acc: 0.872 - ETA: 1s - loss: 0.3026 - acc: 0.875 - ETA: 1s - loss: 0.3041 - acc: 0.875 - ETA: 0s - loss: 0.3019 - acc: 0.874 - ETA: 0s - loss: 0.3041 - acc: 0.873 - ETA: 0s - loss: 0.2993 - acc: 0.876 - ETA: 0s - loss: 0.2964 - acc: 0.878 - ETA: 0s - loss: 0.2985 - acc: 0.877 - ETA: 0s - loss: 0.2980 - acc: 0.877 - ETA: 0s - loss: 0.2976 - acc: 0.876 - ETA: 0s - loss: 0.2958 - acc: 0.878 - ETA: 0s - loss: 0.2963 - acc: 0.878 - ETA: 0s - loss: 0.2971 - acc: 0.878 - ETA: 0s - loss: 0.2966 - acc: 0.878 - ETA: 0s - loss: 0.2962 - acc: 0.878 - ETA: 0s - loss: 0.2951 - acc: 0.879 - ETA: 0s - loss: 0.2962 - acc: 0.879 - ETA: 0s - loss: 0.2953 - acc: 0.879 - 1s 1ms/step - loss: 0.2942 - acc: 0.8791\n",
      "576/576 [==============================] - ETA:  - ETA:  - ETA:  - ETA:  - 0s 326us/step\n"
     ]
    },
    {
     "name": "stderr",
     "output_type": "stream",
     "text": [
      "  4%|▍         | 2/50 [00:07<03:31,  4.41s/it]"
     ]
    },
    {
     "name": "stdout",
     "output_type": "stream",
     "text": [
      "Epoch 1/1\n",
      "1344/1344 [==============================] - ETA: 1s - loss: 0.2162 - acc: 0.919 - ETA: 1s - loss: 0.2321 - acc: 0.909 - ETA: 1s - loss: 0.2354 - acc: 0.907 - ETA: 1s - loss: 0.2263 - acc: 0.909 - ETA: 1s - loss: 0.2292 - acc: 0.909 - ETA: 1s - loss: 0.2321 - acc: 0.908 - ETA: 0s - loss: 0.2296 - acc: 0.910 - ETA: 0s - loss: 0.2317 - acc: 0.908 - ETA: 0s - loss: 0.2397 - acc: 0.903 - ETA: 0s - loss: 0.2420 - acc: 0.901 - ETA: 0s - loss: 0.2431 - acc: 0.901 - ETA: 0s - loss: 0.2440 - acc: 0.901 - ETA: 0s - loss: 0.2423 - acc: 0.902 - ETA: 0s - loss: 0.2424 - acc: 0.902 - ETA: 0s - loss: 0.2436 - acc: 0.901 - ETA: 0s - loss: 0.2454 - acc: 0.901 - ETA: 0s - loss: 0.2463 - acc: 0.901 - ETA: 0s - loss: 0.2466 - acc: 0.900 - ETA: 0s - loss: 0.2460 - acc: 0.900 - ETA: 0s - loss: 0.2445 - acc: 0.901 - ETA: 0s - loss: 0.2435 - acc: 0.901 - 1s 1ms/step - loss: 0.2433 - acc: 0.9017\n",
      "576/576 [==============================] - ETA:  - ETA:  - ETA:  - ETA:  - 0s 319us/step\n"
     ]
    },
    {
     "name": "stderr",
     "output_type": "stream",
     "text": [
      "  6%|▌         | 3/50 [00:08<02:47,  3.57s/it]"
     ]
    },
    {
     "name": "stdout",
     "output_type": "stream",
     "text": [
      "Epoch 1/1\n",
      "1344/1344 [==============================] - ETA: 1s - loss: 0.1655 - acc: 0.942 - ETA: 1s - loss: 0.1742 - acc: 0.933 - ETA: 1s - loss: 0.1835 - acc: 0.933 - ETA: 1s - loss: 0.1924 - acc: 0.929 - ETA: 1s - loss: 0.1950 - acc: 0.926 - ETA: 1s - loss: 0.1944 - acc: 0.928 - ETA: 0s - loss: 0.1983 - acc: 0.924 - ETA: 0s - loss: 0.1969 - acc: 0.926 - ETA: 0s - loss: 0.1978 - acc: 0.925 - ETA: 0s - loss: 0.1997 - acc: 0.923 - ETA: 0s - loss: 0.1994 - acc: 0.924 - ETA: 0s - loss: 0.1985 - acc: 0.924 - ETA: 0s - loss: 0.1972 - acc: 0.925 - ETA: 0s - loss: 0.1965 - acc: 0.925 - ETA: 0s - loss: 0.1975 - acc: 0.923 - ETA: 0s - loss: 0.1990 - acc: 0.923 - ETA: 0s - loss: 0.1997 - acc: 0.923 - ETA: 0s - loss: 0.2017 - acc: 0.922 - ETA: 0s - loss: 0.2021 - acc: 0.922 - ETA: 0s - loss: 0.2010 - acc: 0.922 - ETA: 0s - loss: 0.2003 - acc: 0.922 - 1s 1ms/step - loss: 0.2005 - acc: 0.9226\n",
      "576/576 [==============================] - ETA:  - ETA:  - ETA:  - ETA:  - 0s 326us/step\n"
     ]
    },
    {
     "name": "stderr",
     "output_type": "stream",
     "text": [
      "  8%|▊         | 4/50 [00:10<02:17,  2.99s/it]"
     ]
    },
    {
     "name": "stdout",
     "output_type": "stream",
     "text": [
      "Epoch 1/1\n",
      "1344/1344 [==============================] - ETA: 1s - loss: 0.1792 - acc: 0.928 - ETA: 1s - loss: 0.1687 - acc: 0.934 - ETA: 1s - loss: 0.1670 - acc: 0.933 - ETA: 1s - loss: 0.1602 - acc: 0.940 - ETA: 1s - loss: 0.1572 - acc: 0.943 - ETA: 1s - loss: 0.1564 - acc: 0.943 - ETA: 0s - loss: 0.1549 - acc: 0.944 - ETA: 0s - loss: 0.1513 - acc: 0.946 - ETA: 0s - loss: 0.1493 - acc: 0.947 - ETA: 0s - loss: 0.1512 - acc: 0.946 - ETA: 0s - loss: 0.1513 - acc: 0.946 - ETA: 0s - loss: 0.1481 - acc: 0.947 - ETA: 0s - loss: 0.1492 - acc: 0.946 - ETA: 0s - loss: 0.1495 - acc: 0.946 - ETA: 0s - loss: 0.1526 - acc: 0.944 - ETA: 0s - loss: 0.1539 - acc: 0.944 - ETA: 0s - loss: 0.1555 - acc: 0.944 - ETA: 0s - loss: 0.1559 - acc: 0.944 - ETA: 0s - loss: 0.1556 - acc: 0.944 - ETA: 0s - loss: 0.1551 - acc: 0.944 - ETA: 0s - loss: 0.1560 - acc: 0.944 - 1s 1ms/step - loss: 0.1549 - acc: 0.9448\n",
      "576/576 [==============================] - ETA:  - ETA:  - ETA:  - ETA:  - 0s 329us/step\n"
     ]
    },
    {
     "name": "stderr",
     "output_type": "stream",
     "text": [
      " 10%|█         | 5/50 [00:12<01:56,  2.59s/it]"
     ]
    },
    {
     "name": "stdout",
     "output_type": "stream",
     "text": [
      "Epoch 1/1\n",
      "1344/1344 [==============================] - ETA: 1s - loss: 0.1302 - acc: 0.955 - ETA: 1s - loss: 0.1125 - acc: 0.968 - ETA: 1s - loss: 0.1191 - acc: 0.966 - ETA: 1s - loss: 0.1228 - acc: 0.963 - ETA: 1s - loss: 0.1213 - acc: 0.962 - ETA: 1s - loss: 0.1195 - acc: 0.965 - ETA: 0s - loss: 0.1176 - acc: 0.965 - ETA: 0s - loss: 0.1165 - acc: 0.965 - ETA: 0s - loss: 0.1147 - acc: 0.966 - ETA: 0s - loss: 0.1140 - acc: 0.966 - ETA: 0s - loss: 0.1141 - acc: 0.965 - ETA: 0s - loss: 0.1142 - acc: 0.965 - ETA: 0s - loss: 0.1127 - acc: 0.966 - ETA: 0s - loss: 0.1135 - acc: 0.966 - ETA: 0s - loss: 0.1145 - acc: 0.965 - ETA: 0s - loss: 0.1123 - acc: 0.966 - ETA: 0s - loss: 0.1131 - acc: 0.965 - ETA: 0s - loss: 0.1126 - acc: 0.966 - ETA: 0s - loss: 0.1117 - acc: 0.966 - ETA: 0s - loss: 0.1128 - acc: 0.966 - ETA: 0s - loss: 0.1117 - acc: 0.966 - 1s 1ms/step - loss: 0.1123 - acc: 0.9665\n",
      "576/576 [==============================] - ETA:  - ETA:  - ETA:  - ETA:  - 0s 322us/step\n"
     ]
    },
    {
     "name": "stderr",
     "output_type": "stream",
     "text": [
      " 12%|█▏        | 6/50 [00:13<01:41,  2.31s/it]"
     ]
    },
    {
     "name": "stdout",
     "output_type": "stream",
     "text": [
      "Epoch 1/1\n",
      "1344/1344 [==============================] - ETA: 1s - loss: 0.0637 - acc: 0.986 - ETA: 1s - loss: 0.0641 - acc: 0.988 - ETA: 1s - loss: 0.0698 - acc: 0.984 - ETA: 1s - loss: 0.0681 - acc: 0.989 - ETA: 1s - loss: 0.0709 - acc: 0.988 - ETA: 1s - loss: 0.0710 - acc: 0.987 - ETA: 0s - loss: 0.0698 - acc: 0.989 - ETA: 0s - loss: 0.0703 - acc: 0.988 - ETA: 0s - loss: 0.0699 - acc: 0.987 - ETA: 0s - loss: 0.0705 - acc: 0.987 - ETA: 0s - loss: 0.0707 - acc: 0.987 - ETA: 0s - loss: 0.0715 - acc: 0.986 - ETA: 0s - loss: 0.0739 - acc: 0.985 - ETA: 0s - loss: 0.0748 - acc: 0.985 - ETA: 0s - loss: 0.0755 - acc: 0.984 - ETA: 0s - loss: 0.0764 - acc: 0.983 - ETA: 0s - loss: 0.0773 - acc: 0.983 - ETA: 0s - loss: 0.0775 - acc: 0.982 - ETA: 0s - loss: 0.0780 - acc: 0.982 - ETA: 0s - loss: 0.0787 - acc: 0.981 - ETA: 0s - loss: 0.0787 - acc: 0.981 - 1s 1ms/step - loss: 0.0786 - acc: 0.9820\n",
      "576/576 [==============================] - ETA:  - ETA:  - ETA:  - ETA:  - 0s 322us/step\n"
     ]
    },
    {
     "name": "stderr",
     "output_type": "stream",
     "text": [
      " 14%|█▍        | 7/50 [00:15<01:30,  2.10s/it]"
     ]
    },
    {
     "name": "stdout",
     "output_type": "stream",
     "text": [
      "Epoch 1/1\n",
      "1344/1344 [==============================] - ETA: 1s - loss: 0.0621 - acc: 0.986 - ETA: 1s - loss: 0.0561 - acc: 0.991 - ETA: 1s - loss: 0.0615 - acc: 0.986 - ETA: 1s - loss: 0.0559 - acc: 0.989 - ETA: 1s - loss: 0.0559 - acc: 0.989 - ETA: 1s - loss: 0.0552 - acc: 0.990 - ETA: 0s - loss: 0.0564 - acc: 0.990 - ETA: 0s - loss: 0.0564 - acc: 0.990 - ETA: 0s - loss: 0.0556 - acc: 0.991 - ETA: 0s - loss: 0.0582 - acc: 0.990 - ETA: 0s - loss: 0.0585 - acc: 0.990 - ETA: 0s - loss: 0.0578 - acc: 0.990 - ETA: 0s - loss: 0.0576 - acc: 0.991 - ETA: 0s - loss: 0.0582 - acc: 0.990 - ETA: 0s - loss: 0.0586 - acc: 0.990 - ETA: 0s - loss: 0.0599 - acc: 0.989 - ETA: 0s - loss: 0.0600 - acc: 0.989 - ETA: 0s - loss: 0.0605 - acc: 0.988 - ETA: 0s - loss: 0.0603 - acc: 0.989 - ETA: 0s - loss: 0.0598 - acc: 0.989 - ETA: 0s - loss: 0.0601 - acc: 0.989 - 1s 1ms/step - loss: 0.0601 - acc: 0.9891\n",
      "576/576 [==============================] - ETA:  - ETA:  - ETA:  - ETA:  - 0s 322us/step\n"
     ]
    },
    {
     "name": "stderr",
     "output_type": "stream",
     "text": [
      " 16%|█▌        | 8/50 [00:17<01:22,  1.97s/it]"
     ]
    },
    {
     "name": "stdout",
     "output_type": "stream",
     "text": [
      "Epoch 1/1\n",
      "1344/1344 [==============================] - ETA: 1s - loss: 0.0479 - acc: 0.982 - ETA: 1s - loss: 0.0491 - acc: 0.988 - ETA: 1s - loss: 0.0433 - acc: 0.992 - ETA: 1s - loss: 0.0431 - acc: 0.993 - ETA: 1s - loss: 0.0459 - acc: 0.993 - ETA: 1s - loss: 0.0458 - acc: 0.993 - ETA: 0s - loss: 0.0467 - acc: 0.992 - ETA: 0s - loss: 0.0460 - acc: 0.993 - ETA: 0s - loss: 0.0461 - acc: 0.993 - ETA: 0s - loss: 0.0476 - acc: 0.992 - ETA: 0s - loss: 0.0471 - acc: 0.992 - ETA: 0s - loss: 0.0461 - acc: 0.993 - ETA: 0s - loss: 0.0459 - acc: 0.993 - ETA: 0s - loss: 0.0458 - acc: 0.993 - ETA: 0s - loss: 0.0460 - acc: 0.993 - ETA: 0s - loss: 0.0454 - acc: 0.993 - ETA: 0s - loss: 0.0450 - acc: 0.993 - ETA: 0s - loss: 0.0455 - acc: 0.993 - ETA: 0s - loss: 0.0460 - acc: 0.993 - ETA: 0s - loss: 0.0459 - acc: 0.993 - ETA: 0s - loss: 0.0461 - acc: 0.993 - 1s 1ms/step - loss: 0.0461 - acc: 0.9930\n",
      "576/576 [==============================] - ETA:  - ETA:  - ETA:  - ETA:  - 0s 326us/step\n"
     ]
    },
    {
     "name": "stderr",
     "output_type": "stream",
     "text": [
      " 18%|█▊        | 9/50 [00:18<01:16,  1.87s/it]"
     ]
    },
    {
     "name": "stdout",
     "output_type": "stream",
     "text": [
      "Epoch 1/1\n",
      "1344/1344 [==============================] - ETA: 1s - loss: 0.0458 - acc: 0.982 - ETA: 1s - loss: 0.0343 - acc: 0.994 - ETA: 1s - loss: 0.0300 - acc: 0.996 - ETA: 1s - loss: 0.0311 - acc: 0.996 - ETA: 1s - loss: 0.0312 - acc: 0.996 - ETA: 1s - loss: 0.0331 - acc: 0.995 - ETA: 0s - loss: 0.0324 - acc: 0.995 - ETA: 0s - loss: 0.0323 - acc: 0.996 - ETA: 0s - loss: 0.0326 - acc: 0.995 - ETA: 0s - loss: 0.0321 - acc: 0.995 - ETA: 0s - loss: 0.0323 - acc: 0.995 - ETA: 0s - loss: 0.0337 - acc: 0.995 - ETA: 0s - loss: 0.0334 - acc: 0.995 - ETA: 0s - loss: 0.0336 - acc: 0.994 - ETA: 0s - loss: 0.0339 - acc: 0.994 - ETA: 0s - loss: 0.0339 - acc: 0.995 - ETA: 0s - loss: 0.0336 - acc: 0.995 - ETA: 0s - loss: 0.0334 - acc: 0.995 - ETA: 0s - loss: 0.0338 - acc: 0.995 - ETA: 0s - loss: 0.0341 - acc: 0.995 - ETA: 0s - loss: 0.0341 - acc: 0.995 - 1s 1ms/step - loss: 0.0344 - acc: 0.9956\n",
      "576/576 [==============================] - ETA:  - ETA:  - ETA:  - ETA:  - 0s 324us/step\n"
     ]
    },
    {
     "name": "stderr",
     "output_type": "stream",
     "text": [
      " 20%|██        | 10/50 [00:20<01:12,  1.81s/it]"
     ]
    },
    {
     "name": "stdout",
     "output_type": "stream",
     "text": [
      "Epoch 1/1\n",
      "1344/1344 [==============================] - ETA: 1s - loss: 0.0240 - acc: 0.995 - ETA: 1s - loss: 0.0216 - acc: 0.998 - ETA: 1s - loss: 0.0227 - acc: 0.998 - ETA: 1s - loss: 0.0258 - acc: 0.996 - ETA: 1s - loss: 0.0251 - acc: 0.997 - ETA: 1s - loss: 0.0273 - acc: 0.996 - ETA: 0s - loss: 0.0279 - acc: 0.996 - ETA: 0s - loss: 0.0269 - acc: 0.997 - ETA: 0s - loss: 0.0262 - acc: 0.997 - ETA: 0s - loss: 0.0257 - acc: 0.997 - ETA: 0s - loss: 0.0253 - acc: 0.997 - ETA: 0s - loss: 0.0251 - acc: 0.997 - ETA: 0s - loss: 0.0249 - acc: 0.997 - ETA: 0s - loss: 0.0250 - acc: 0.997 - ETA: 0s - loss: 0.0257 - acc: 0.996 - ETA: 0s - loss: 0.0259 - acc: 0.997 - ETA: 0s - loss: 0.0256 - acc: 0.997 - ETA: 0s - loss: 0.0258 - acc: 0.997 - ETA: 0s - loss: 0.0255 - acc: 0.997 - ETA: 0s - loss: 0.0260 - acc: 0.997 - ETA: 0s - loss: 0.0257 - acc: 0.997 - 1s 1ms/step - loss: 0.0257 - acc: 0.9972\n",
      "576/576 [==============================] - ETA:  - ETA:  - ETA:  - ETA:  - 0s 322us/step\n"
     ]
    },
    {
     "name": "stderr",
     "output_type": "stream",
     "text": [
      " 22%|██▏       | 11/50 [00:22<01:08,  1.76s/it]"
     ]
    },
    {
     "name": "stdout",
     "output_type": "stream",
     "text": [
      "Epoch 1/1\n",
      "1344/1344 [==============================] - ETA: 1s - loss: 0.0122 - acc: 1.000 - ETA: 1s - loss: 0.0179 - acc: 0.998 - ETA: 1s - loss: 0.0173 - acc: 0.999 - ETA: 1s - loss: 0.0167 - acc: 0.999 - ETA: 1s - loss: 0.0198 - acc: 0.998 - ETA: 1s - loss: 0.0192 - acc: 0.998 - ETA: 0s - loss: 0.0187 - acc: 0.999 - ETA: 0s - loss: 0.0193 - acc: 0.998 - ETA: 0s - loss: 0.0189 - acc: 0.998 - ETA: 0s - loss: 0.0186 - acc: 0.999 - ETA: 0s - loss: 0.0184 - acc: 0.999 - ETA: 0s - loss: 0.0185 - acc: 0.998 - ETA: 0s - loss: 0.0185 - acc: 0.998 - ETA: 0s - loss: 0.0181 - acc: 0.998 - ETA: 0s - loss: 0.0186 - acc: 0.998 - ETA: 0s - loss: 0.0189 - acc: 0.998 - ETA: 0s - loss: 0.0190 - acc: 0.998 - ETA: 0s - loss: 0.0190 - acc: 0.998 - ETA: 0s - loss: 0.0192 - acc: 0.998 - ETA: 0s - loss: 0.0193 - acc: 0.998 - ETA: 0s - loss: 0.0192 - acc: 0.998 - 1s 1ms/step - loss: 0.0193 - acc: 0.9984\n",
      "576/576 [==============================] - ETA:  - ETA:  - ETA:  - ETA:  - 0s 327us/step\n"
     ]
    },
    {
     "name": "stderr",
     "output_type": "stream",
     "text": [
      " 24%|██▍       | 12/50 [00:23<01:05,  1.73s/it]"
     ]
    },
    {
     "name": "stdout",
     "output_type": "stream",
     "text": [
      "Epoch 1/1\n",
      "1344/1344 [==============================] - ETA: 1s - loss: 0.0097 - acc: 1.000 - ETA: 1s - loss: 0.0141 - acc: 1.000 - ETA: 1s - loss: 0.0148 - acc: 1.000 - ETA: 1s - loss: 0.0180 - acc: 0.999 - ETA: 1s - loss: 0.0167 - acc: 0.999 - ETA: 1s - loss: 0.0161 - acc: 0.999 - ETA: 0s - loss: 0.0157 - acc: 0.999 - ETA: 0s - loss: 0.0160 - acc: 0.999 - ETA: 0s - loss: 0.0157 - acc: 0.999 - ETA: 0s - loss: 0.0166 - acc: 0.999 - ETA: 0s - loss: 0.0164 - acc: 0.999 - ETA: 0s - loss: 0.0171 - acc: 0.998 - ETA: 0s - loss: 0.0171 - acc: 0.998 - ETA: 0s - loss: 0.0175 - acc: 0.998 - ETA: 0s - loss: 0.0181 - acc: 0.998 - ETA: 0s - loss: 0.0192 - acc: 0.998 - ETA: 0s - loss: 0.0188 - acc: 0.998 - ETA: 0s - loss: 0.0191 - acc: 0.998 - ETA: 0s - loss: 0.0190 - acc: 0.998 - ETA: 0s - loss: 0.0193 - acc: 0.998 - ETA: 0s - loss: 0.0193 - acc: 0.998 - 1s 1ms/step - loss: 0.0192 - acc: 0.9987\n",
      "576/576 [==============================] - ETA:  - ETA:  - ETA:  - ETA:  - 0s 327us/step\n"
     ]
    },
    {
     "name": "stderr",
     "output_type": "stream",
     "text": [
      " 26%|██▌       | 13/50 [00:25<01:02,  1.70s/it]"
     ]
    },
    {
     "name": "stdout",
     "output_type": "stream",
     "text": [
      "Epoch 1/1\n",
      "1344/1344 [==============================] - ETA: 1s - loss: 0.0133 - acc: 1.000 - ETA: 1s - loss: 0.0123 - acc: 1.000 - ETA: 1s - loss: 0.0150 - acc: 1.000 - ETA: 1s - loss: 0.0167 - acc: 0.998 - ETA: 1s - loss: 0.0155 - acc: 0.999 - ETA: 1s - loss: 0.0151 - acc: 0.999 - ETA: 0s - loss: 0.0147 - acc: 0.999 - ETA: 0s - loss: 0.0148 - acc: 0.999 - ETA: 0s - loss: 0.0151 - acc: 0.998 - ETA: 0s - loss: 0.0157 - acc: 0.998 - ETA: 0s - loss: 0.0157 - acc: 0.998 - ETA: 0s - loss: 0.0155 - acc: 0.998 - ETA: 0s - loss: 0.0158 - acc: 0.998 - ETA: 0s - loss: 0.0155 - acc: 0.998 - ETA: 0s - loss: 0.0155 - acc: 0.998 - ETA: 0s - loss: 0.0152 - acc: 0.998 - ETA: 0s - loss: 0.0152 - acc: 0.998 - ETA: 0s - loss: 0.0152 - acc: 0.998 - ETA: 0s - loss: 0.0152 - acc: 0.998 - ETA: 0s - loss: 0.0150 - acc: 0.999 - ETA: 0s - loss: 0.0150 - acc: 0.999 - 1s 1ms/step - loss: 0.0149 - acc: 0.9990\n",
      "576/576 [==============================] - ETA:  - ETA:  - ETA:  - ETA:  - 0s 326us/step\n"
     ]
    },
    {
     "name": "stderr",
     "output_type": "stream",
     "text": [
      " 28%|██▊       | 14/50 [00:26<01:00,  1.69s/it]"
     ]
    },
    {
     "name": "stdout",
     "output_type": "stream",
     "text": [
      "Epoch 1/1\n",
      "1344/1344 [==============================] - ETA: 1s - loss: 0.0182 - acc: 0.995 - ETA: 1s - loss: 0.0160 - acc: 0.998 - ETA: 1s - loss: 0.0135 - acc: 0.999 - ETA: 1s - loss: 0.0127 - acc: 0.999 - ETA: 1s - loss: 0.0117 - acc: 0.999 - ETA: 1s - loss: 0.0115 - acc: 0.999 - ETA: 0s - loss: 0.0114 - acc: 0.999 - ETA: 0s - loss: 0.0115 - acc: 0.999 - ETA: 0s - loss: 0.0112 - acc: 0.999 - ETA: 0s - loss: 0.0115 - acc: 0.999 - ETA: 0s - loss: 0.0115 - acc: 0.999 - ETA: 0s - loss: 0.0112 - acc: 0.999 - ETA: 0s - loss: 0.0114 - acc: 0.999 - ETA: 0s - loss: 0.0112 - acc: 0.999 - ETA: 0s - loss: 0.0116 - acc: 0.999 - ETA: 0s - loss: 0.0113 - acc: 0.999 - ETA: 0s - loss: 0.0113 - acc: 0.999 - ETA: 0s - loss: 0.0110 - acc: 0.999 - ETA: 0s - loss: 0.0108 - acc: 0.999 - ETA: 0s - loss: 0.0108 - acc: 0.999 - ETA: 0s - loss: 0.0106 - acc: 0.999 - 1s 1ms/step - loss: 0.0112 - acc: 0.9991\n",
      "576/576 [==============================] - ETA:  - ETA:  - ETA:  - ETA:  - 0s 329us/step\n"
     ]
    },
    {
     "name": "stderr",
     "output_type": "stream",
     "text": [
      " 30%|███       | 15/50 [00:28<00:58,  1.67s/it]"
     ]
    },
    {
     "name": "stdout",
     "output_type": "stream",
     "text": [
      "Epoch 1/1\n",
      "1344/1344 [==============================] - ETA: 1s - loss: 0.0073 - acc: 1.000 - ETA: 1s - loss: 0.0077 - acc: 1.000 - ETA: 1s - loss: 0.0091 - acc: 1.000 - ETA: 1s - loss: 0.0094 - acc: 1.000 - ETA: 1s - loss: 0.0089 - acc: 1.000 - ETA: 1s - loss: 0.0088 - acc: 1.000 - ETA: 0s - loss: 0.0095 - acc: 1.000 - ETA: 0s - loss: 0.0094 - acc: 1.000 - ETA: 0s - loss: 0.0092 - acc: 1.000 - ETA: 0s - loss: 0.0087 - acc: 1.000 - ETA: 0s - loss: 0.0092 - acc: 1.000 - ETA: 0s - loss: 0.0094 - acc: 1.000 - ETA: 0s - loss: 0.0096 - acc: 1.000 - ETA: 0s - loss: 0.0095 - acc: 1.000 - ETA: 0s - loss: 0.0096 - acc: 1.000 - ETA: 0s - loss: 0.0097 - acc: 1.000 - ETA: 0s - loss: 0.0098 - acc: 1.000 - ETA: 0s - loss: 0.0098 - acc: 1.000 - ETA: 0s - loss: 0.0100 - acc: 1.000 - ETA: 0s - loss: 0.0100 - acc: 1.000 - ETA: 0s - loss: 0.0101 - acc: 1.000 - 1s 1ms/step - loss: 0.0100 - acc: 1.0000\n",
      "576/576 [==============================] - ETA:  - ETA:  - ETA:  - ETA:  - 0s 322us/step\n"
     ]
    },
    {
     "name": "stderr",
     "output_type": "stream",
     "text": [
      " 32%|███▏      | 16/50 [00:30<00:56,  1.67s/it]"
     ]
    },
    {
     "name": "stdout",
     "output_type": "stream",
     "text": [
      "Epoch 1/1\n",
      "1344/1344 [==============================] - ETA: 1s - loss: 0.0062 - acc: 1.000 - ETA: 1s - loss: 0.0078 - acc: 1.000 - ETA: 1s - loss: 0.0079 - acc: 1.000 - ETA: 1s - loss: 0.0075 - acc: 1.000 - ETA: 1s - loss: 0.0087 - acc: 1.000 - ETA: 1s - loss: 0.0095 - acc: 1.000 - ETA: 0s - loss: 0.0096 - acc: 1.000 - ETA: 0s - loss: 0.0091 - acc: 1.000 - ETA: 0s - loss: 0.0089 - acc: 1.000 - ETA: 0s - loss: 0.0085 - acc: 1.000 - ETA: 0s - loss: 0.0083 - acc: 1.000 - ETA: 0s - loss: 0.0088 - acc: 0.999 - ETA: 0s - loss: 0.0086 - acc: 0.999 - ETA: 0s - loss: 0.0086 - acc: 0.999 - ETA: 0s - loss: 0.0085 - acc: 0.999 - ETA: 0s - loss: 0.0086 - acc: 0.999 - ETA: 0s - loss: 0.0086 - acc: 0.999 - ETA: 0s - loss: 0.0085 - acc: 0.999 - ETA: 0s - loss: 0.0084 - acc: 0.999 - ETA: 0s - loss: 0.0084 - acc: 0.999 - ETA: 0s - loss: 0.0083 - acc: 0.999 - 1s 1ms/step - loss: 0.0083 - acc: 0.9998\n",
      "576/576 [==============================] - ETA:  - ETA:  - ETA:  - ETA:  - 0s 324us/step\n"
     ]
    },
    {
     "name": "stderr",
     "output_type": "stream",
     "text": [
      " 34%|███▍      | 17/50 [00:31<00:54,  1.66s/it]"
     ]
    },
    {
     "name": "stdout",
     "output_type": "stream",
     "text": [
      "Epoch 1/1\n",
      "1344/1344 [==============================] - ETA: 1s - loss: 0.0096 - acc: 1.000 - ETA: 1s - loss: 0.0062 - acc: 1.000 - ETA: 1s - loss: 0.0072 - acc: 0.998 - ETA: 1s - loss: 0.0070 - acc: 0.998 - ETA: 1s - loss: 0.0079 - acc: 0.998 - ETA: 1s - loss: 0.0074 - acc: 0.998 - ETA: 0s - loss: 0.0087 - acc: 0.997 - ETA: 0s - loss: 0.0087 - acc: 0.997 - ETA: 0s - loss: 0.0088 - acc: 0.998 - ETA: 0s - loss: 0.0085 - acc: 0.998 - ETA: 0s - loss: 0.0082 - acc: 0.998 - ETA: 0s - loss: 0.0083 - acc: 0.998 - ETA: 0s - loss: 0.0087 - acc: 0.998 - ETA: 0s - loss: 0.0094 - acc: 0.998 - ETA: 0s - loss: 0.0095 - acc: 0.998 - ETA: 0s - loss: 0.0096 - acc: 0.998 - ETA: 0s - loss: 0.0097 - acc: 0.998 - ETA: 0s - loss: 0.0097 - acc: 0.998 - ETA: 0s - loss: 0.0096 - acc: 0.998 - ETA: 0s - loss: 0.0098 - acc: 0.998 - ETA: 0s - loss: 0.0098 - acc: 0.998 - 1s 1ms/step - loss: 0.0097 - acc: 0.9987\n",
      "576/576 [==============================] - ETA:  - ETA:  - ETA:  - ETA:  - 0s 329us/step\n"
     ]
    },
    {
     "name": "stderr",
     "output_type": "stream",
     "text": [
      " 36%|███▌      | 18/50 [00:33<00:52,  1.65s/it]"
     ]
    },
    {
     "name": "stdout",
     "output_type": "stream",
     "text": [
      "Epoch 1/1\n",
      "1344/1344 [==============================] - ETA: 1s - loss: 0.0052 - acc: 1.000 - ETA: 1s - loss: 0.0068 - acc: 1.000 - ETA: 1s - loss: 0.0075 - acc: 1.000 - ETA: 1s - loss: 0.0090 - acc: 1.000 - ETA: 1s - loss: 0.0088 - acc: 1.000 - ETA: 1s - loss: 0.0082 - acc: 1.000 - ETA: 0s - loss: 0.0088 - acc: 1.000 - ETA: 0s - loss: 0.0088 - acc: 1.000 - ETA: 0s - loss: 0.0086 - acc: 1.000 - ETA: 0s - loss: 0.0086 - acc: 1.000 - ETA: 0s - loss: 0.0082 - acc: 1.000 - ETA: 0s - loss: 0.0084 - acc: 1.000 - ETA: 0s - loss: 0.0086 - acc: 0.999 - ETA: 0s - loss: 0.0083 - acc: 0.999 - ETA: 0s - loss: 0.0083 - acc: 0.999 - ETA: 0s - loss: 0.0082 - acc: 0.999 - ETA: 0s - loss: 0.0081 - acc: 0.999 - ETA: 0s - loss: 0.0081 - acc: 0.999 - ETA: 0s - loss: 0.0083 - acc: 0.999 - ETA: 0s - loss: 0.0084 - acc: 0.999 - ETA: 0s - loss: 0.0084 - acc: 0.999 - 1s 1ms/step - loss: 0.0084 - acc: 0.9996\n",
      "576/576 [==============================] - ETA:  - ETA:  - ETA:  - ETA:  - 0s 331us/step\n"
     ]
    },
    {
     "name": "stderr",
     "output_type": "stream",
     "text": [
      " 38%|███▊      | 19/50 [00:35<00:51,  1.65s/it]"
     ]
    },
    {
     "name": "stdout",
     "output_type": "stream",
     "text": [
      "Epoch 1/1\n",
      "1344/1344 [==============================] - ETA: 1s - loss: 0.0110 - acc: 1.000 - ETA: 1s - loss: 0.0073 - acc: 1.000 - ETA: 1s - loss: 0.0067 - acc: 1.000 - ETA: 1s - loss: 0.0063 - acc: 1.000 - ETA: 1s - loss: 0.0072 - acc: 1.000 - ETA: 1s - loss: 0.0068 - acc: 1.000 - ETA: 0s - loss: 0.0079 - acc: 0.999 - ETA: 0s - loss: 0.0073 - acc: 0.999 - ETA: 0s - loss: 0.0074 - acc: 0.999 - ETA: 0s - loss: 0.0076 - acc: 0.999 - ETA: 0s - loss: 0.0074 - acc: 0.999 - ETA: 0s - loss: 0.0073 - acc: 0.999 - ETA: 0s - loss: 0.0084 - acc: 0.999 - ETA: 0s - loss: 0.0084 - acc: 0.999 - ETA: 0s - loss: 0.0083 - acc: 0.999 - ETA: 0s - loss: 0.0083 - acc: 0.999 - ETA: 0s - loss: 0.0081 - acc: 0.999 - ETA: 0s - loss: 0.0081 - acc: 0.999 - ETA: 0s - loss: 0.0084 - acc: 0.999 - ETA: 0s - loss: 0.0083 - acc: 0.999 - ETA: 0s - loss: 0.0082 - acc: 0.999 - 1s 1ms/step - loss: 0.0081 - acc: 0.9996\n",
      "576/576 [==============================] - ETA:  - ETA:  - ETA:  - ETA:  - 0s 329us/step\n"
     ]
    },
    {
     "name": "stderr",
     "output_type": "stream",
     "text": [
      " 40%|████      | 20/50 [00:36<00:49,  1.66s/it]"
     ]
    },
    {
     "name": "stdout",
     "output_type": "stream",
     "text": [
      "Epoch 1/1\n",
      "1344/1344 [==============================] - ETA: 1s - loss: 0.0067 - acc: 1.000 - ETA: 1s - loss: 0.0079 - acc: 0.997 - ETA: 1s - loss: 0.0067 - acc: 0.998 - ETA: 1s - loss: 0.0065 - acc: 0.998 - ETA: 1s - loss: 0.0085 - acc: 0.998 - ETA: 1s - loss: 0.0077 - acc: 0.998 - ETA: 0s - loss: 0.0068 - acc: 0.999 - ETA: 0s - loss: 0.0070 - acc: 0.998 - ETA: 0s - loss: 0.0066 - acc: 0.998 - ETA: 0s - loss: 0.0067 - acc: 0.999 - ETA: 0s - loss: 0.0065 - acc: 0.999 - ETA: 0s - loss: 0.0065 - acc: 0.999 - ETA: 0s - loss: 0.0067 - acc: 0.999 - ETA: 0s - loss: 0.0066 - acc: 0.999 - ETA: 0s - loss: 0.0071 - acc: 0.999 - ETA: 0s - loss: 0.0073 - acc: 0.999 - ETA: 0s - loss: 0.0074 - acc: 0.999 - ETA: 0s - loss: 0.0073 - acc: 0.999 - ETA: 0s - loss: 0.0073 - acc: 0.999 - ETA: 0s - loss: 0.0071 - acc: 0.999 - ETA: 0s - loss: 0.0072 - acc: 0.999 - 1s 1ms/step - loss: 0.0071 - acc: 0.9994\n",
      "576/576 [==============================] - ETA:  - ETA:  - ETA:  - ETA:  - 0s 327us/step\n"
     ]
    },
    {
     "name": "stderr",
     "output_type": "stream",
     "text": [
      " 42%|████▏     | 21/50 [00:38<00:47,  1.65s/it]"
     ]
    },
    {
     "name": "stdout",
     "output_type": "stream",
     "text": [
      "Epoch 1/1\n",
      "1344/1344 [==============================] - ETA: 1s - loss: 0.0027 - acc: 1.000 - ETA: 1s - loss: 0.0036 - acc: 1.000 - ETA: 1s - loss: 0.0035 - acc: 1.000 - ETA: 1s - loss: 0.0042 - acc: 1.000 - ETA: 1s - loss: 0.0053 - acc: 1.000 - ETA: 1s - loss: 0.0052 - acc: 1.000 - ETA: 0s - loss: 0.0050 - acc: 1.000 - ETA: 0s - loss: 0.0050 - acc: 1.000 - ETA: 0s - loss: 0.0052 - acc: 1.000 - ETA: 0s - loss: 0.0054 - acc: 1.000 - ETA: 0s - loss: 0.0053 - acc: 1.000 - ETA: 0s - loss: 0.0054 - acc: 1.000 - ETA: 0s - loss: 0.0056 - acc: 0.999 - ETA: 0s - loss: 0.0058 - acc: 0.999 - ETA: 0s - loss: 0.0057 - acc: 0.999 - ETA: 0s - loss: 0.0055 - acc: 0.999 - ETA: 0s - loss: 0.0058 - acc: 0.999 - ETA: 0s - loss: 0.0060 - acc: 0.999 - ETA: 0s - loss: 0.0060 - acc: 0.999 - ETA: 0s - loss: 0.0060 - acc: 0.999 - ETA: 0s - loss: 0.0060 - acc: 0.999 - 1s 1ms/step - loss: 0.0059 - acc: 0.9998\n",
      "576/576 [==============================] - ETA:  - ETA:  - ETA:  - ETA:  - 0s 329us/step\n"
     ]
    },
    {
     "name": "stderr",
     "output_type": "stream",
     "text": [
      " 44%|████▍     | 22/50 [00:40<00:46,  1.65s/it]"
     ]
    },
    {
     "name": "stdout",
     "output_type": "stream",
     "text": [
      "Epoch 1/1\n",
      "1344/1344 [==============================] - ETA: 1s - loss: 0.0106 - acc: 1.000 - ETA: 1s - loss: 0.0054 - acc: 1.000 - ETA: 1s - loss: 0.0043 - acc: 1.000 - ETA: 1s - loss: 0.0038 - acc: 1.000 - ETA: 1s - loss: 0.0048 - acc: 1.000 - ETA: 1s - loss: 0.0080 - acc: 0.998 - ETA: 0s - loss: 0.0076 - acc: 0.998 - ETA: 0s - loss: 0.0075 - acc: 0.998 - ETA: 0s - loss: 0.0071 - acc: 0.998 - ETA: 0s - loss: 0.0071 - acc: 0.999 - ETA: 0s - loss: 0.0080 - acc: 0.998 - ETA: 0s - loss: 0.0078 - acc: 0.998 - ETA: 0s - loss: 0.0078 - acc: 0.998 - ETA: 0s - loss: 0.0078 - acc: 0.998 - ETA: 0s - loss: 0.0082 - acc: 0.998 - ETA: 0s - loss: 0.0083 - acc: 0.998 - ETA: 0s - loss: 0.0082 - acc: 0.998 - ETA: 0s - loss: 0.0084 - acc: 0.998 - ETA: 0s - loss: 0.0082 - acc: 0.998 - ETA: 0s - loss: 0.0083 - acc: 0.999 - ETA: 0s - loss: 0.0084 - acc: 0.998 - 1s 1ms/step - loss: 0.0083 - acc: 0.9988\n",
      "576/576 [==============================] - ETA:  - ETA:  - ETA:  - ETA:  - 0s 329us/step\n"
     ]
    },
    {
     "name": "stderr",
     "output_type": "stream",
     "text": [
      " 46%|████▌     | 23/50 [00:41<00:44,  1.65s/it]"
     ]
    },
    {
     "name": "stdout",
     "output_type": "stream",
     "text": [
      "Epoch 1/1\n",
      "1344/1344 [==============================] - ETA: 1s - loss: 0.0051 - acc: 1.000 - ETA: 1s - loss: 0.0050 - acc: 1.000 - ETA: 1s - loss: 0.0082 - acc: 0.999 - ETA: 1s - loss: 0.0077 - acc: 0.999 - ETA: 1s - loss: 0.0081 - acc: 0.999 - ETA: 1s - loss: 0.0083 - acc: 0.999 - ETA: 0s - loss: 0.0076 - acc: 0.999 - ETA: 0s - loss: 0.0075 - acc: 0.999 - ETA: 0s - loss: 0.0082 - acc: 0.998 - ETA: 0s - loss: 0.0083 - acc: 0.999 - ETA: 0s - loss: 0.0082 - acc: 0.999 - ETA: 0s - loss: 0.0090 - acc: 0.998 - ETA: 0s - loss: 0.0103 - acc: 0.998 - ETA: 0s - loss: 0.0108 - acc: 0.998 - ETA: 0s - loss: 0.0115 - acc: 0.997 - ETA: 0s - loss: 0.0124 - acc: 0.997 - ETA: 0s - loss: 0.0124 - acc: 0.997 - ETA: 0s - loss: 0.0126 - acc: 0.997 - ETA: 0s - loss: 0.0144 - acc: 0.996 - ETA: 0s - loss: 0.0152 - acc: 0.995 - ETA: 0s - loss: 0.0163 - acc: 0.995 - 1s 1ms/step - loss: 0.0169 - acc: 0.9950\n",
      "576/576 [==============================] - ETA:  - ETA:  - ETA:  - ETA:  - 0s 341us/step\n"
     ]
    },
    {
     "name": "stderr",
     "output_type": "stream",
     "text": [
      " 48%|████▊     | 24/50 [00:43<00:42,  1.65s/it]"
     ]
    },
    {
     "name": "stdout",
     "output_type": "stream",
     "text": [
      "Epoch 1/1\n",
      "1344/1344 [==============================] - ETA: 1s - loss: 0.0359 - acc: 0.991 - ETA: 1s - loss: 0.0444 - acc: 0.985 - ETA: 1s - loss: 0.0350 - acc: 0.989 - ETA: 1s - loss: 0.0389 - acc: 0.987 - ETA: 1s - loss: 0.0381 - acc: 0.988 - ETA: 1s - loss: 0.0452 - acc: 0.983 - ETA: 0s - loss: 0.0482 - acc: 0.982 - ETA: 0s - loss: 0.0511 - acc: 0.981 - ETA: 0s - loss: 0.0534 - acc: 0.981 - ETA: 0s - loss: 0.0546 - acc: 0.979 - ETA: 0s - loss: 0.0599 - acc: 0.976 - ETA: 0s - loss: 0.0628 - acc: 0.975 - ETA: 0s - loss: 0.0670 - acc: 0.975 - ETA: 0s - loss: 0.0703 - acc: 0.974 - ETA: 0s - loss: 0.0725 - acc: 0.973 - ETA: 0s - loss: 0.0777 - acc: 0.971 - ETA: 0s - loss: 0.0807 - acc: 0.970 - ETA: 0s - loss: 0.0823 - acc: 0.969 - ETA: 0s - loss: 0.0872 - acc: 0.967 - ETA: 0s - loss: 0.0925 - acc: 0.965 - ETA: 0s - loss: 0.0925 - acc: 0.965 - 1s 1ms/step - loss: 0.0926 - acc: 0.9648\n",
      "576/576 [==============================] - ETA:  - ETA:  - ETA:  - ETA:  - 0s 324us/step\n"
     ]
    },
    {
     "name": "stderr",
     "output_type": "stream",
     "text": [
      " 50%|█████     | 25/50 [00:45<00:41,  1.65s/it]"
     ]
    },
    {
     "name": "stdout",
     "output_type": "stream",
     "text": [
      "Epoch 1/1\n",
      "1344/1344 [==============================] - ETA: 1s - loss: 0.0391 - acc: 0.986 - ETA: 1s - loss: 0.0566 - acc: 0.979 - ETA: 1s - loss: 0.0736 - acc: 0.972 - ETA: 1s - loss: 0.0862 - acc: 0.966 - ETA: 1s - loss: 0.0916 - acc: 0.962 - ETA: 1s - loss: 0.0861 - acc: 0.964 - ETA: 0s - loss: 0.0839 - acc: 0.965 - ETA: 0s - loss: 0.0883 - acc: 0.965 - ETA: 0s - loss: 0.0888 - acc: 0.965 - ETA: 0s - loss: 0.0880 - acc: 0.965 - ETA: 0s - loss: 0.0874 - acc: 0.966 - ETA: 0s - loss: 0.0878 - acc: 0.965 - ETA: 0s - loss: 0.0854 - acc: 0.967 - ETA: 0s - loss: 0.0835 - acc: 0.967 - ETA: 0s - loss: 0.0837 - acc: 0.967 - ETA: 0s - loss: 0.0838 - acc: 0.966 - ETA: 0s - loss: 0.0854 - acc: 0.966 - ETA: 0s - loss: 0.0840 - acc: 0.966 - ETA: 0s - loss: 0.0831 - acc: 0.967 - ETA: 0s - loss: 0.0817 - acc: 0.967 - ETA: 0s - loss: 0.0827 - acc: 0.967 - 1s 1ms/step - loss: 0.0826 - acc: 0.9676\n",
      "576/576 [==============================] - ETA:  - ETA:  - ETA:  - ETA:  - 0s 327us/step\n"
     ]
    },
    {
     "name": "stderr",
     "output_type": "stream",
     "text": [
      " 52%|█████▏    | 26/50 [00:46<00:39,  1.65s/it]"
     ]
    },
    {
     "name": "stdout",
     "output_type": "stream",
     "text": [
      "Epoch 1/1\n",
      "1344/1344 [==============================] - ETA: 1s - loss: 0.0872 - acc: 0.973 - ETA: 1s - loss: 0.0478 - acc: 0.985 - ETA: 1s - loss: 0.0589 - acc: 0.980 - ETA: 1s - loss: 0.0602 - acc: 0.980 - ETA: 1s - loss: 0.0524 - acc: 0.983 - ETA: 1s - loss: 0.0556 - acc: 0.982 - ETA: 0s - loss: 0.0526 - acc: 0.983 - ETA: 0s - loss: 0.0509 - acc: 0.984 - ETA: 0s - loss: 0.0526 - acc: 0.982 - ETA: 0s - loss: 0.0524 - acc: 0.982 - ETA: 0s - loss: 0.0531 - acc: 0.982 - ETA: 0s - loss: 0.0515 - acc: 0.983 - ETA: 0s - loss: 0.0498 - acc: 0.983 - ETA: 0s - loss: 0.0478 - acc: 0.984 - ETA: 0s - loss: 0.0476 - acc: 0.984 - ETA: 0s - loss: 0.0477 - acc: 0.983 - ETA: 0s - loss: 0.0472 - acc: 0.983 - ETA: 0s - loss: 0.0480 - acc: 0.983 - ETA: 0s - loss: 0.0470 - acc: 0.984 - ETA: 0s - loss: 0.0469 - acc: 0.984 - ETA: 0s - loss: 0.0468 - acc: 0.984 - 1s 1ms/step - loss: 0.0464 - acc: 0.9844\n",
      "576/576 [==============================] - ETA:  - ETA:  - ETA:  - ETA:  - 0s 326us/step\n"
     ]
    },
    {
     "name": "stderr",
     "output_type": "stream",
     "text": [
      " 54%|█████▍    | 27/50 [00:48<00:37,  1.65s/it]"
     ]
    },
    {
     "name": "stdout",
     "output_type": "stream",
     "text": [
      "Epoch 1/1\n",
      "1344/1344 [==============================] - ETA: 1s - loss: 0.0083 - acc: 1.000 - ETA: 1s - loss: 0.0206 - acc: 0.992 - ETA: 1s - loss: 0.0209 - acc: 0.995 - ETA: 1s - loss: 0.0222 - acc: 0.994 - ETA: 1s - loss: 0.0221 - acc: 0.994 - ETA: 1s - loss: 0.0205 - acc: 0.995 - ETA: 0s - loss: 0.0241 - acc: 0.993 - ETA: 0s - loss: 0.0237 - acc: 0.994 - ETA: 0s - loss: 0.0240 - acc: 0.994 - ETA: 0s - loss: 0.0235 - acc: 0.994 - ETA: 0s - loss: 0.0225 - acc: 0.994 - ETA: 0s - loss: 0.0217 - acc: 0.995 - ETA: 0s - loss: 0.0216 - acc: 0.995 - ETA: 0s - loss: 0.0221 - acc: 0.994 - ETA: 0s - loss: 0.0218 - acc: 0.994 - ETA: 0s - loss: 0.0218 - acc: 0.994 - ETA: 0s - loss: 0.0217 - acc: 0.994 - ETA: 0s - loss: 0.0219 - acc: 0.994 - ETA: 0s - loss: 0.0215 - acc: 0.994 - ETA: 0s - loss: 0.0220 - acc: 0.994 - ETA: 0s - loss: 0.0215 - acc: 0.994 - 1s 1ms/step - loss: 0.0214 - acc: 0.9946\n",
      "576/576 [==============================] - ETA:  - ETA:  - ETA:  - ETA:  - 0s 332us/step\n"
     ]
    },
    {
     "name": "stderr",
     "output_type": "stream",
     "text": [
      " 56%|█████▌    | 28/50 [00:50<00:36,  1.65s/it]"
     ]
    },
    {
     "name": "stdout",
     "output_type": "stream",
     "text": [
      "Epoch 1/1\n",
      "1344/1344 [==============================] - ETA: 1s - loss: 0.0344 - acc: 0.991 - ETA: 1s - loss: 0.0167 - acc: 0.997 - ETA: 1s - loss: 0.0157 - acc: 0.996 - ETA: 1s - loss: 0.0136 - acc: 0.997 - ETA: 1s - loss: 0.0128 - acc: 0.997 - ETA: 1s - loss: 0.0126 - acc: 0.996 - ETA: 0s - loss: 0.0127 - acc: 0.996 - ETA: 0s - loss: 0.0123 - acc: 0.997 - ETA: 0s - loss: 0.0120 - acc: 0.997 - ETA: 0s - loss: 0.0116 - acc: 0.997 - ETA: 0s - loss: 0.0113 - acc: 0.998 - ETA: 0s - loss: 0.0112 - acc: 0.997 - ETA: 0s - loss: 0.0111 - acc: 0.998 - ETA: 0s - loss: 0.0108 - acc: 0.998 - ETA: 0s - loss: 0.0109 - acc: 0.998 - ETA: 0s - loss: 0.0106 - acc: 0.998 - ETA: 0s - loss: 0.0110 - acc: 0.998 - ETA: 0s - loss: 0.0123 - acc: 0.997 - ETA: 0s - loss: 0.0124 - acc: 0.997 - ETA: 0s - loss: 0.0128 - acc: 0.997 - ETA: 0s - loss: 0.0126 - acc: 0.997 - 1s 1ms/step - loss: 0.0124 - acc: 0.9973\n",
      "576/576 [==============================] - ETA:  - ETA:  - ETA:  - ETA:  - 0s 324us/step\n"
     ]
    },
    {
     "name": "stderr",
     "output_type": "stream",
     "text": [
      " 58%|█████▊    | 29/50 [00:51<00:34,  1.65s/it]"
     ]
    },
    {
     "name": "stdout",
     "output_type": "stream",
     "text": [
      "Epoch 1/1\n",
      "1344/1344 [==============================] - ETA: 1s - loss: 0.0078 - acc: 1.000 - ETA: 1s - loss: 0.0101 - acc: 0.998 - ETA: 1s - loss: 0.0081 - acc: 0.999 - ETA: 1s - loss: 0.0099 - acc: 0.998 - ETA: 1s - loss: 0.0085 - acc: 0.998 - ETA: 1s - loss: 0.0080 - acc: 0.998 - ETA: 0s - loss: 0.0079 - acc: 0.999 - ETA: 0s - loss: 0.0103 - acc: 0.998 - ETA: 0s - loss: 0.0099 - acc: 0.998 - ETA: 0s - loss: 0.0096 - acc: 0.998 - ETA: 0s - loss: 0.0103 - acc: 0.998 - ETA: 0s - loss: 0.0099 - acc: 0.998 - ETA: 0s - loss: 0.0100 - acc: 0.998 - ETA: 0s - loss: 0.0102 - acc: 0.998 - ETA: 0s - loss: 0.0103 - acc: 0.998 - ETA: 0s - loss: 0.0102 - acc: 0.998 - ETA: 0s - loss: 0.0103 - acc: 0.998 - ETA: 0s - loss: 0.0110 - acc: 0.998 - ETA: 0s - loss: 0.0108 - acc: 0.998 - ETA: 0s - loss: 0.0107 - acc: 0.998 - ETA: 0s - loss: 0.0110 - acc: 0.998 - 1s 1ms/step - loss: 0.0111 - acc: 0.9985\n",
      "576/576 [==============================] - ETA:  - ETA:  - ETA:  - ETA:  - 0s 331us/step\n"
     ]
    },
    {
     "name": "stderr",
     "output_type": "stream",
     "text": [
      " 60%|██████    | 30/50 [00:53<00:32,  1.65s/it]"
     ]
    },
    {
     "name": "stdout",
     "output_type": "stream",
     "text": [
      "Epoch 1/1\n",
      "1344/1344 [==============================] - ETA: 1s - loss: 0.0177 - acc: 0.991 - ETA: 1s - loss: 0.0088 - acc: 0.997 - ETA: 1s - loss: 0.0109 - acc: 0.996 - ETA: 1s - loss: 0.0087 - acc: 0.997 - ETA: 1s - loss: 0.0084 - acc: 0.998 - ETA: 1s - loss: 0.0076 - acc: 0.998 - ETA: 0s - loss: 0.0092 - acc: 0.997 - ETA: 0s - loss: 0.0087 - acc: 0.998 - ETA: 0s - loss: 0.0083 - acc: 0.998 - ETA: 0s - loss: 0.0081 - acc: 0.998 - ETA: 0s - loss: 0.0077 - acc: 0.998 - ETA: 0s - loss: 0.0093 - acc: 0.998 - ETA: 0s - loss: 0.0098 - acc: 0.997 - ETA: 0s - loss: 0.0097 - acc: 0.997 - ETA: 0s - loss: 0.0095 - acc: 0.998 - ETA: 0s - loss: 0.0094 - acc: 0.998 - ETA: 0s - loss: 0.0101 - acc: 0.997 - ETA: 0s - loss: 0.0098 - acc: 0.997 - ETA: 0s - loss: 0.0097 - acc: 0.997 - ETA: 0s - loss: 0.0096 - acc: 0.997 - ETA: 0s - loss: 0.0096 - acc: 0.997 - 1s 1ms/step - loss: 0.0098 - acc: 0.9978\n",
      "576/576 [==============================] - ETA:  - ETA:  - ETA:  - 0s 315us/step\n"
     ]
    },
    {
     "name": "stderr",
     "output_type": "stream",
     "text": [
      " 62%|██████▏   | 31/50 [00:54<00:31,  1.65s/it]"
     ]
    },
    {
     "name": "stdout",
     "output_type": "stream",
     "text": [
      "Epoch 1/1\n",
      "1344/1344 [==============================] - ETA: 1s - loss: 0.0120 - acc: 1.000 - ETA: 1s - loss: 0.0071 - acc: 1.000 - ETA: 1s - loss: 0.0080 - acc: 0.999 - ETA: 1s - loss: 0.0075 - acc: 0.999 - ETA: 1s - loss: 0.0081 - acc: 0.998 - ETA: 1s - loss: 0.0086 - acc: 0.998 - ETA: 0s - loss: 0.0079 - acc: 0.998 - ETA: 0s - loss: 0.0074 - acc: 0.998 - ETA: 0s - loss: 0.0074 - acc: 0.998 - ETA: 0s - loss: 0.0071 - acc: 0.999 - ETA: 0s - loss: 0.0073 - acc: 0.998 - ETA: 0s - loss: 0.0074 - acc: 0.998 - ETA: 0s - loss: 0.0073 - acc: 0.998 - ETA: 0s - loss: 0.0073 - acc: 0.999 - ETA: 0s - loss: 0.0072 - acc: 0.999 - ETA: 0s - loss: 0.0073 - acc: 0.998 - ETA: 0s - loss: 0.0071 - acc: 0.998 - ETA: 0s - loss: 0.0070 - acc: 0.999 - ETA: 0s - loss: 0.0069 - acc: 0.999 - ETA: 0s - loss: 0.0068 - acc: 0.999 - ETA: 0s - loss: 0.0067 - acc: 0.999 - 1s 1ms/step - loss: 0.0067 - acc: 0.9991\n",
      "576/576 [==============================] - ETA:  - ETA:  - ETA:  - ETA:  - 0s 346us/step\n"
     ]
    },
    {
     "name": "stderr",
     "output_type": "stream",
     "text": [
      " 64%|██████▍   | 32/50 [00:56<00:29,  1.66s/it]"
     ]
    },
    {
     "name": "stdout",
     "output_type": "stream",
     "text": [
      "Epoch 1/1\n",
      "1344/1344 [==============================] - ETA: 1s - loss: 0.0019 - acc: 1.000 - ETA: 1s - loss: 0.0027 - acc: 1.000 - ETA: 1s - loss: 0.0038 - acc: 1.000 - ETA: 1s - loss: 0.0045 - acc: 1.000 - ETA: 1s - loss: 0.0065 - acc: 0.999 - ETA: 1s - loss: 0.0060 - acc: 0.999 - ETA: 0s - loss: 0.0060 - acc: 0.999 - ETA: 0s - loss: 0.0059 - acc: 0.999 - ETA: 0s - loss: 0.0061 - acc: 0.999 - ETA: 0s - loss: 0.0056 - acc: 0.999 - ETA: 0s - loss: 0.0057 - acc: 0.999 - ETA: 0s - loss: 0.0055 - acc: 0.999 - ETA: 0s - loss: 0.0056 - acc: 0.999 - ETA: 0s - loss: 0.0056 - acc: 0.999 - ETA: 0s - loss: 0.0056 - acc: 0.999 - ETA: 0s - loss: 0.0055 - acc: 0.999 - ETA: 0s - loss: 0.0054 - acc: 0.999 - ETA: 0s - loss: 0.0053 - acc: 0.999 - ETA: 0s - loss: 0.0055 - acc: 0.999 - ETA: 0s - loss: 0.0054 - acc: 0.999 - ETA: 0s - loss: 0.0052 - acc: 0.999 - 1s 1ms/step - loss: 0.0051 - acc: 0.9996\n",
      "576/576 [==============================] - ETA:  - ETA:  - ETA:  - ETA:  - 0s 331us/step\n"
     ]
    },
    {
     "name": "stderr",
     "output_type": "stream",
     "text": [
      " 66%|██████▌   | 33/50 [00:58<00:28,  1.66s/it]"
     ]
    },
    {
     "name": "stdout",
     "output_type": "stream",
     "text": [
      "Epoch 1/1\n",
      "1344/1344 [==============================] - ETA: 1s - loss: 0.0039 - acc: 1.000 - ETA: 1s - loss: 0.0033 - acc: 1.000 - ETA: 1s - loss: 0.0061 - acc: 0.998 - ETA: 1s - loss: 0.0049 - acc: 0.998 - ETA: 1s - loss: 0.0047 - acc: 0.999 - ETA: 1s - loss: 0.0043 - acc: 0.999 - ETA: 0s - loss: 0.0052 - acc: 0.998 - ETA: 0s - loss: 0.0048 - acc: 0.998 - ETA: 0s - loss: 0.0045 - acc: 0.998 - ETA: 0s - loss: 0.0042 - acc: 0.999 - ETA: 0s - loss: 0.0043 - acc: 0.999 - ETA: 0s - loss: 0.0041 - acc: 0.999 - ETA: 0s - loss: 0.0041 - acc: 0.999 - ETA: 0s - loss: 0.0041 - acc: 0.999 - ETA: 0s - loss: 0.0040 - acc: 0.999 - ETA: 0s - loss: 0.0040 - acc: 0.999 - ETA: 0s - loss: 0.0040 - acc: 0.999 - ETA: 0s - loss: 0.0040 - acc: 0.999 - ETA: 0s - loss: 0.0040 - acc: 0.999 - ETA: 0s - loss: 0.0040 - acc: 0.999 - ETA: 0s - loss: 0.0044 - acc: 0.999 - 1s 1ms/step - loss: 0.0043 - acc: 0.9994\n",
      "576/576 [==============================] - ETA:  - ETA:  - ETA:  - ETA:  - 0s 327us/step\n"
     ]
    },
    {
     "name": "stderr",
     "output_type": "stream",
     "text": [
      " 68%|██████▊   | 34/50 [00:59<00:26,  1.66s/it]"
     ]
    },
    {
     "name": "stdout",
     "output_type": "stream",
     "text": [
      "Epoch 1/1\n",
      "1344/1344 [==============================] - ETA: 1s - loss: 0.0017 - acc: 1.000 - ETA: 1s - loss: 0.0025 - acc: 1.000 - ETA: 1s - loss: 0.0027 - acc: 1.000 - ETA: 1s - loss: 0.0037 - acc: 1.000 - ETA: 1s - loss: 0.0037 - acc: 1.000 - ETA: 1s - loss: 0.0034 - acc: 1.000 - ETA: 0s - loss: 0.0038 - acc: 1.000 - ETA: 0s - loss: 0.0039 - acc: 1.000 - ETA: 0s - loss: 0.0038 - acc: 1.000 - ETA: 0s - loss: 0.0036 - acc: 1.000 - ETA: 0s - loss: 0.0036 - acc: 1.000 - ETA: 0s - loss: 0.0036 - acc: 1.000 - ETA: 0s - loss: 0.0036 - acc: 1.000 - ETA: 0s - loss: 0.0039 - acc: 1.000 - ETA: 0s - loss: 0.0038 - acc: 1.000 - ETA: 0s - loss: 0.0037 - acc: 1.000 - ETA: 0s - loss: 0.0036 - acc: 1.000 - ETA: 0s - loss: 0.0035 - acc: 1.000 - ETA: 0s - loss: 0.0035 - acc: 1.000 - ETA: 0s - loss: 0.0036 - acc: 1.000 - ETA: 0s - loss: 0.0035 - acc: 1.000 - 1s 1ms/step - loss: 0.0035 - acc: 1.0000\n",
      "576/576 [==============================] - ETA:  - ETA:  - ETA:  - ETA:  - 0s 320us/step\n"
     ]
    },
    {
     "name": "stderr",
     "output_type": "stream",
     "text": [
      " 70%|███████   | 35/50 [01:01<00:24,  1.65s/it]"
     ]
    },
    {
     "name": "stdout",
     "output_type": "stream",
     "text": [
      "Epoch 1/1\n",
      "1344/1344 [==============================] - ETA: 1s - loss: 0.0041 - acc: 1.000 - ETA: 1s - loss: 0.0031 - acc: 1.000 - ETA: 1s - loss: 0.0082 - acc: 0.999 - ETA: 1s - loss: 0.0064 - acc: 0.999 - ETA: 1s - loss: 0.0065 - acc: 0.999 - ETA: 1s - loss: 0.0056 - acc: 0.999 - ETA: 0s - loss: 0.0052 - acc: 0.999 - ETA: 0s - loss: 0.0046 - acc: 0.999 - ETA: 0s - loss: 0.0047 - acc: 0.999 - ETA: 0s - loss: 0.0045 - acc: 0.999 - ETA: 0s - loss: 0.0048 - acc: 0.999 - ETA: 0s - loss: 0.0045 - acc: 0.999 - ETA: 0s - loss: 0.0044 - acc: 0.999 - ETA: 0s - loss: 0.0042 - acc: 0.999 - ETA: 0s - loss: 0.0045 - acc: 0.999 - ETA: 0s - loss: 0.0043 - acc: 0.999 - ETA: 0s - loss: 0.0042 - acc: 0.999 - ETA: 0s - loss: 0.0041 - acc: 0.999 - ETA: 0s - loss: 0.0040 - acc: 0.999 - ETA: 0s - loss: 0.0039 - acc: 0.999 - ETA: 0s - loss: 0.0038 - acc: 0.999 - 1s 1ms/step - loss: 0.0038 - acc: 0.9996\n",
      "576/576 [==============================] - ETA:  - ETA:  - ETA:  - ETA:  - 0s 339us/step\n"
     ]
    },
    {
     "name": "stderr",
     "output_type": "stream",
     "text": [
      " 72%|███████▏  | 36/50 [01:03<00:23,  1.65s/it]"
     ]
    },
    {
     "name": "stdout",
     "output_type": "stream",
     "text": [
      "Epoch 1/1\n",
      "1344/1344 [==============================] - ETA: 1s - loss: 0.0012 - acc: 1.000 - ETA: 1s - loss: 0.0019 - acc: 1.000 - ETA: 1s - loss: 0.0022 - acc: 1.000 - ETA: 1s - loss: 0.0022 - acc: 1.000 - ETA: 1s - loss: 0.0022 - acc: 1.000 - ETA: 1s - loss: 0.0023 - acc: 1.000 - ETA: 0s - loss: 0.0021 - acc: 1.000 - ETA: 0s - loss: 0.0020 - acc: 1.000 - ETA: 0s - loss: 0.0023 - acc: 1.000 - ETA: 0s - loss: 0.0022 - acc: 1.000 - ETA: 0s - loss: 0.0021 - acc: 1.000 - ETA: 0s - loss: 0.0024 - acc: 1.000 - ETA: 0s - loss: 0.0024 - acc: 1.000 - ETA: 0s - loss: 0.0024 - acc: 1.000 - ETA: 0s - loss: 0.0025 - acc: 1.000 - ETA: 0s - loss: 0.0025 - acc: 1.000 - ETA: 0s - loss: 0.0025 - acc: 1.000 - ETA: 0s - loss: 0.0025 - acc: 1.000 - ETA: 0s - loss: 0.0025 - acc: 1.000 - ETA: 0s - loss: 0.0024 - acc: 1.000 - ETA: 0s - loss: 0.0024 - acc: 1.000 - 1s 1ms/step - loss: 0.0025 - acc: 1.0000\n",
      "576/576 [==============================] - ETA:  - ETA:  - ETA:  - ETA:  - 0s 320us/step\n"
     ]
    },
    {
     "name": "stderr",
     "output_type": "stream",
     "text": [
      " 74%|███████▍  | 37/50 [01:04<00:21,  1.65s/it]"
     ]
    },
    {
     "name": "stdout",
     "output_type": "stream",
     "text": [
      "Epoch 1/1\n",
      "1344/1344 [==============================] - ETA: 1s - loss: 0.0043 - acc: 1.000 - ETA: 1s - loss: 0.0033 - acc: 1.000 - ETA: 1s - loss: 0.0035 - acc: 1.000 - ETA: 1s - loss: 0.0031 - acc: 1.000 - ETA: 1s - loss: 0.0027 - acc: 1.000 - ETA: 1s - loss: 0.0026 - acc: 1.000 - ETA: 0s - loss: 0.0030 - acc: 1.000 - ETA: 0s - loss: 0.0028 - acc: 1.000 - ETA: 0s - loss: 0.0026 - acc: 1.000 - ETA: 0s - loss: 0.0026 - acc: 1.000 - ETA: 0s - loss: 0.0026 - acc: 1.000 - ETA: 0s - loss: 0.0024 - acc: 1.000 - ETA: 0s - loss: 0.0024 - acc: 1.000 - ETA: 0s - loss: 0.0024 - acc: 1.000 - ETA: 0s - loss: 0.0023 - acc: 1.000 - ETA: 0s - loss: 0.0023 - acc: 1.000 - ETA: 0s - loss: 0.0026 - acc: 0.999 - ETA: 0s - loss: 0.0025 - acc: 0.999 - ETA: 0s - loss: 0.0025 - acc: 0.999 - ETA: 0s - loss: 0.0026 - acc: 0.999 - ETA: 0s - loss: 0.0025 - acc: 0.999 - 1s 1ms/step - loss: 0.0025 - acc: 0.9998\n",
      "576/576 [==============================] - ETA:  - ETA:  - ETA:  - ETA:  - 0s 322us/step\n"
     ]
    },
    {
     "name": "stderr",
     "output_type": "stream",
     "text": [
      " 76%|███████▌  | 38/50 [01:06<00:19,  1.65s/it]"
     ]
    },
    {
     "name": "stdout",
     "output_type": "stream",
     "text": [
      "Epoch 1/1\n",
      "1344/1344 [==============================] - ETA: 1s - loss: 0.0014 - acc: 1.000 - ETA: 1s - loss: 0.0034 - acc: 1.000 - ETA: 1s - loss: 0.0027 - acc: 1.000 - ETA: 1s - loss: 0.0028 - acc: 1.000 - ETA: 1s - loss: 0.0027 - acc: 1.000 - ETA: 1s - loss: 0.0026 - acc: 1.000 - ETA: 0s - loss: 0.0024 - acc: 1.000 - ETA: 0s - loss: 0.0024 - acc: 1.000 - ETA: 0s - loss: 0.0022 - acc: 1.000 - ETA: 0s - loss: 0.0022 - acc: 1.000 - ETA: 0s - loss: 0.0021 - acc: 1.000 - ETA: 0s - loss: 0.0022 - acc: 1.000 - ETA: 0s - loss: 0.0024 - acc: 1.000 - ETA: 0s - loss: 0.0027 - acc: 0.999 - ETA: 0s - loss: 0.0029 - acc: 0.999 - ETA: 0s - loss: 0.0031 - acc: 0.999 - ETA: 0s - loss: 0.0030 - acc: 0.999 - ETA: 0s - loss: 0.0030 - acc: 0.999 - ETA: 0s - loss: 0.0030 - acc: 0.999 - ETA: 0s - loss: 0.0029 - acc: 0.999 - ETA: 0s - loss: 0.0029 - acc: 0.999 - 1s 1ms/step - loss: 0.0028 - acc: 0.9999\n",
      "576/576 [==============================] - ETA:  - ETA:  - ETA:  - ETA:  - 0s 319us/step\n"
     ]
    },
    {
     "name": "stderr",
     "output_type": "stream",
     "text": [
      " 78%|███████▊  | 39/50 [01:08<00:18,  1.65s/it]"
     ]
    },
    {
     "name": "stdout",
     "output_type": "stream",
     "text": [
      "Epoch 1/1\n",
      "1344/1344 [==============================] - ETA: 1s - loss: 0.0021 - acc: 1.000 - ETA: 1s - loss: 0.0048 - acc: 1.000 - ETA: 1s - loss: 0.0037 - acc: 1.000 - ETA: 1s - loss: 0.0035 - acc: 1.000 - ETA: 1s - loss: 0.0031 - acc: 1.000 - ETA: 1s - loss: 0.0029 - acc: 1.000 - ETA: 0s - loss: 0.0030 - acc: 1.000 - ETA: 0s - loss: 0.0029 - acc: 1.000 - ETA: 0s - loss: 0.0027 - acc: 1.000 - ETA: 0s - loss: 0.0029 - acc: 0.999 - ETA: 0s - loss: 0.0031 - acc: 0.999 - ETA: 0s - loss: 0.0030 - acc: 0.999 - ETA: 0s - loss: 0.0028 - acc: 0.999 - ETA: 0s - loss: 0.0027 - acc: 0.999 - ETA: 0s - loss: 0.0027 - acc: 0.999 - ETA: 0s - loss: 0.0026 - acc: 0.999 - ETA: 0s - loss: 0.0027 - acc: 0.999 - ETA: 0s - loss: 0.0026 - acc: 0.999 - ETA: 0s - loss: 0.0025 - acc: 0.999 - ETA: 0s - loss: 0.0025 - acc: 0.999 - ETA: 0s - loss: 0.0026 - acc: 0.999 - 1s 1ms/step - loss: 0.0026 - acc: 0.9999\n",
      "576/576 [==============================] - ETA:  - ETA:  - ETA:  - ETA:  - 0s 320us/step\n"
     ]
    },
    {
     "name": "stderr",
     "output_type": "stream",
     "text": [
      " 80%|████████  | 40/50 [01:09<00:16,  1.64s/it]"
     ]
    },
    {
     "name": "stdout",
     "output_type": "stream",
     "text": [
      "Epoch 1/1\n",
      "1344/1344 [==============================] - ETA: 1s - loss: 0.0062 - acc: 1.000 - ETA: 1s - loss: 0.0046 - acc: 1.000 - ETA: 1s - loss: 0.0040 - acc: 1.000 - ETA: 1s - loss: 0.0034 - acc: 1.000 - ETA: 1s - loss: 0.0029 - acc: 1.000 - ETA: 1s - loss: 0.0028 - acc: 1.000 - ETA: 0s - loss: 0.0026 - acc: 1.000 - ETA: 0s - loss: 0.0025 - acc: 1.000 - ETA: 0s - loss: 0.0024 - acc: 1.000 - ETA: 0s - loss: 0.0023 - acc: 1.000 - ETA: 0s - loss: 0.0023 - acc: 1.000 - ETA: 0s - loss: 0.0025 - acc: 0.999 - ETA: 0s - loss: 0.0024 - acc: 0.999 - ETA: 0s - loss: 0.0023 - acc: 0.999 - ETA: 0s - loss: 0.0022 - acc: 0.999 - ETA: 0s - loss: 0.0021 - acc: 0.999 - ETA: 0s - loss: 0.0021 - acc: 0.999 - ETA: 0s - loss: 0.0021 - acc: 0.999 - ETA: 0s - loss: 0.0022 - acc: 0.999 - ETA: 0s - loss: 0.0021 - acc: 0.999 - ETA: 0s - loss: 0.0021 - acc: 0.999 - 1s 1ms/step - loss: 0.0022 - acc: 0.9999\n",
      "576/576 [==============================] - ETA:  - ETA:  - ETA:  - ETA:  - 0s 322us/step\n"
     ]
    },
    {
     "name": "stderr",
     "output_type": "stream",
     "text": [
      " 82%|████████▏ | 41/50 [01:11<00:14,  1.64s/it]"
     ]
    },
    {
     "name": "stdout",
     "output_type": "stream",
     "text": [
      "Epoch 1/1\n",
      "1344/1344 [==============================] - ETA: 1s - loss: 0.0011 - acc: 1.000 - ETA: 1s - loss: 0.0028 - acc: 1.000 - ETA: 1s - loss: 0.0022 - acc: 1.000 - ETA: 1s - loss: 0.0021 - acc: 1.000 - ETA: 1s - loss: 0.0019 - acc: 1.000 - ETA: 1s - loss: 0.0019 - acc: 1.000 - ETA: 0s - loss: 0.0017 - acc: 1.000 - ETA: 0s - loss: 0.0022 - acc: 1.000 - ETA: 0s - loss: 0.0021 - acc: 1.000 - ETA: 0s - loss: 0.0022 - acc: 1.000 - ETA: 0s - loss: 0.0021 - acc: 1.000 - ETA: 0s - loss: 0.0021 - acc: 1.000 - ETA: 0s - loss: 0.0020 - acc: 1.000 - ETA: 0s - loss: 0.0020 - acc: 1.000 - ETA: 0s - loss: 0.0020 - acc: 1.000 - ETA: 0s - loss: 0.0022 - acc: 0.999 - ETA: 0s - loss: 0.0023 - acc: 0.999 - ETA: 0s - loss: 0.0023 - acc: 0.999 - ETA: 0s - loss: 0.0023 - acc: 0.999 - ETA: 0s - loss: 0.0023 - acc: 0.999 - ETA: 0s - loss: 0.0023 - acc: 0.999 - 1s 1ms/step - loss: 0.0022 - acc: 0.9998\n",
      "576/576 [==============================] - ETA:  - ETA:  - ETA:  - ETA:  - 0s 320us/step\n"
     ]
    },
    {
     "name": "stderr",
     "output_type": "stream",
     "text": [
      " 84%|████████▍ | 42/50 [01:13<00:13,  1.64s/it]"
     ]
    },
    {
     "name": "stdout",
     "output_type": "stream",
     "text": [
      "Epoch 1/1\n",
      "1344/1344 [==============================] - ETA: 1s - loss: 0.0013 - acc: 1.000 - ETA: 1s - loss: 0.0020 - acc: 1.000 - ETA: 1s - loss: 0.0027 - acc: 1.000 - ETA: 1s - loss: 0.0030 - acc: 1.000 - ETA: 1s - loss: 0.0033 - acc: 0.999 - ETA: 1s - loss: 0.0039 - acc: 0.998 - ETA: 0s - loss: 0.0036 - acc: 0.999 - ETA: 0s - loss: 0.0032 - acc: 0.999 - ETA: 0s - loss: 0.0038 - acc: 0.999 - ETA: 0s - loss: 0.0037 - acc: 0.999 - ETA: 0s - loss: 0.0041 - acc: 0.998 - ETA: 0s - loss: 0.0038 - acc: 0.999 - ETA: 0s - loss: 0.0037 - acc: 0.999 - ETA: 0s - loss: 0.0036 - acc: 0.999 - ETA: 0s - loss: 0.0034 - acc: 0.999 - ETA: 0s - loss: 0.0039 - acc: 0.999 - ETA: 0s - loss: 0.0038 - acc: 0.999 - ETA: 0s - loss: 0.0037 - acc: 0.999 - ETA: 0s - loss: 0.0037 - acc: 0.999 - ETA: 0s - loss: 0.0037 - acc: 0.999 - ETA: 0s - loss: 0.0036 - acc: 0.999 - 1s 1ms/step - loss: 0.0036 - acc: 0.9993\n",
      "576/576 [==============================] - ETA:  - ETA:  - ETA:  - ETA:  - 0s 341us/step\n"
     ]
    },
    {
     "name": "stderr",
     "output_type": "stream",
     "text": [
      " 86%|████████▌ | 43/50 [01:14<00:11,  1.64s/it]"
     ]
    },
    {
     "name": "stdout",
     "output_type": "stream",
     "text": [
      "Epoch 1/1\n",
      "1344/1344 [==============================] - ETA: 1s - loss: 0.0016 - acc: 1.000 - ETA: 1s - loss: 0.0017 - acc: 1.000 - ETA: 1s - loss: 0.0016 - acc: 1.000 - ETA: 1s - loss: 0.0022 - acc: 1.000 - ETA: 1s - loss: 0.0023 - acc: 1.000 - ETA: 1s - loss: 0.0023 - acc: 1.000 - ETA: 0s - loss: 0.0024 - acc: 1.000 - ETA: 0s - loss: 0.0022 - acc: 1.000 - ETA: 0s - loss: 0.0022 - acc: 1.000 - ETA: 0s - loss: 0.0022 - acc: 1.000 - ETA: 0s - loss: 0.0022 - acc: 1.000 - ETA: 0s - loss: 0.0024 - acc: 1.000 - ETA: 0s - loss: 0.0024 - acc: 1.000 - ETA: 0s - loss: 0.0025 - acc: 1.000 - ETA: 0s - loss: 0.0024 - acc: 1.000 - ETA: 0s - loss: 0.0025 - acc: 1.000 - ETA: 0s - loss: 0.0027 - acc: 1.000 - ETA: 0s - loss: 0.0026 - acc: 1.000 - ETA: 0s - loss: 0.0026 - acc: 1.000 - ETA: 0s - loss: 0.0025 - acc: 1.000 - ETA: 0s - loss: 0.0025 - acc: 1.000 - 1s 1ms/step - loss: 0.0025 - acc: 1.0000\n",
      "576/576 [==============================] - ETA:  - ETA:  - ETA:  - ETA:  - 0s 338us/step\n"
     ]
    },
    {
     "name": "stderr",
     "output_type": "stream",
     "text": [
      " 88%|████████▊ | 44/50 [01:16<00:09,  1.66s/it]"
     ]
    },
    {
     "name": "stdout",
     "output_type": "stream",
     "text": [
      "Epoch 1/1\n",
      "1344/1344 [==============================] - ETA: 1s - loss: 0.0021 - acc: 1.000 - ETA: 1s - loss: 0.0016 - acc: 1.000 - ETA: 1s - loss: 0.0020 - acc: 1.000 - ETA: 1s - loss: 0.0029 - acc: 0.998 - ETA: 1s - loss: 0.0032 - acc: 0.999 - ETA: 1s - loss: 0.0032 - acc: 0.999 - ETA: 0s - loss: 0.0029 - acc: 0.999 - ETA: 0s - loss: 0.0027 - acc: 0.999 - ETA: 0s - loss: 0.0026 - acc: 0.999 - ETA: 0s - loss: 0.0025 - acc: 0.999 - ETA: 0s - loss: 0.0024 - acc: 0.999 - ETA: 0s - loss: 0.0023 - acc: 0.999 - ETA: 0s - loss: 0.0022 - acc: 0.999 - ETA: 0s - loss: 0.0022 - acc: 0.999 - ETA: 0s - loss: 0.0021 - acc: 0.999 - ETA: 0s - loss: 0.0023 - acc: 0.999 - ETA: 0s - loss: 0.0023 - acc: 0.999 - ETA: 0s - loss: 0.0023 - acc: 0.999 - ETA: 0s - loss: 0.0023 - acc: 0.999 - ETA: 0s - loss: 0.0023 - acc: 0.999 - ETA: 0s - loss: 0.0023 - acc: 0.999 - 1s 1ms/step - loss: 0.0022 - acc: 0.9998\n",
      "576/576 [==============================] - ETA:  - ETA:  - ETA:  - ETA:  - 0s 326us/step\n"
     ]
    },
    {
     "name": "stderr",
     "output_type": "stream",
     "text": [
      " 90%|█████████ | 45/50 [01:18<00:08,  1.66s/it]"
     ]
    },
    {
     "name": "stdout",
     "output_type": "stream",
     "text": [
      "Epoch 1/1\n",
      "1344/1344 [==============================] - ETA: 1s - loss: 2.8463e-04 - acc: 1.000 - ETA: 1s - loss: 8.4138e-04 - acc: 1.000 - ETA: 1s - loss: 0.0011 - acc: 1.0000    - ETA: 1s - loss: 0.0012 - acc: 1.000 - ETA: 1s - loss: 0.0013 - acc: 1.000 - ETA: 1s - loss: 0.0017 - acc: 1.000 - ETA: 0s - loss: 0.0018 - acc: 1.000 - ETA: 0s - loss: 0.0018 - acc: 1.000 - ETA: 0s - loss: 0.0018 - acc: 1.000 - ETA: 0s - loss: 0.0018 - acc: 1.000 - ETA: 0s - loss: 0.0017 - acc: 1.000 - ETA: 0s - loss: 0.0017 - acc: 1.000 - ETA: 0s - loss: 0.0016 - acc: 1.000 - ETA: 0s - loss: 0.0017 - acc: 1.000 - ETA: 0s - loss: 0.0017 - acc: 1.000 - ETA: 0s - loss: 0.0017 - acc: 1.000 - ETA: 0s - loss: 0.0016 - acc: 1.000 - ETA: 0s - loss: 0.0017 - acc: 1.000 - ETA: 0s - loss: 0.0017 - acc: 1.000 - ETA: 0s - loss: 0.0017 - acc: 1.000 - ETA: 0s - loss: 0.0017 - acc: 1.000 - 1s 1ms/step - loss: 0.0017 - acc: 1.0000\n",
      "576/576 [==============================] - ETA:  - ETA:  - ETA:  - ETA:  - 0s 329us/step\n"
     ]
    },
    {
     "name": "stderr",
     "output_type": "stream",
     "text": [
      " 92%|█████████▏| 46/50 [01:19<00:06,  1.65s/it]"
     ]
    },
    {
     "name": "stdout",
     "output_type": "stream",
     "text": [
      "Epoch 1/1\n",
      "1344/1344 [==============================] - ETA: 1s - loss: 4.8645e-04 - acc: 1.000 - ETA: 1s - loss: 0.0018 - acc: 1.0000    - ETA: 1s - loss: 0.0013 - acc: 1.000 - ETA: 1s - loss: 0.0012 - acc: 1.000 - ETA: 1s - loss: 0.0016 - acc: 1.000 - ETA: 1s - loss: 0.0021 - acc: 1.000 - ETA: 0s - loss: 0.0019 - acc: 1.000 - ETA: 0s - loss: 0.0020 - acc: 1.000 - ETA: 0s - loss: 0.0021 - acc: 1.000 - ETA: 0s - loss: 0.0019 - acc: 1.000 - ETA: 0s - loss: 0.0019 - acc: 1.000 - ETA: 0s - loss: 0.0023 - acc: 0.999 - ETA: 0s - loss: 0.0022 - acc: 0.999 - ETA: 0s - loss: 0.0021 - acc: 0.999 - ETA: 0s - loss: 0.0020 - acc: 0.999 - ETA: 0s - loss: 0.0020 - acc: 0.999 - ETA: 0s - loss: 0.0020 - acc: 0.999 - ETA: 0s - loss: 0.0020 - acc: 0.999 - ETA: 0s - loss: 0.0019 - acc: 0.999 - ETA: 0s - loss: 0.0019 - acc: 0.999 - ETA: 0s - loss: 0.0019 - acc: 0.999 - 1s 1ms/step - loss: 0.0019 - acc: 0.9999\n",
      "576/576 [==============================] - ETA:  - ETA:  - ETA:  - ETA:  - 0s 322us/step\n"
     ]
    },
    {
     "name": "stderr",
     "output_type": "stream",
     "text": [
      " 94%|█████████▍| 47/50 [01:21<00:04,  1.65s/it]"
     ]
    },
    {
     "name": "stdout",
     "output_type": "stream",
     "text": [
      "Epoch 1/1\n",
      "1344/1344 [==============================] - ETA: 1s - loss: 9.8513e-04 - acc: 1.000 - ETA: 1s - loss: 0.0018 - acc: 1.0000    - ETA: 1s - loss: 0.0024 - acc: 1.000 - ETA: 1s - loss: 0.0022 - acc: 1.000 - ETA: 1s - loss: 0.0018 - acc: 1.000 - ETA: 1s - loss: 0.0016 - acc: 1.000 - ETA: 0s - loss: 0.0018 - acc: 1.000 - ETA: 0s - loss: 0.0016 - acc: 1.000 - ETA: 0s - loss: 0.0016 - acc: 1.000 - ETA: 0s - loss: 0.0015 - acc: 1.000 - ETA: 0s - loss: 0.0018 - acc: 1.000 - ETA: 0s - loss: 0.0017 - acc: 1.000 - ETA: 0s - loss: 0.0017 - acc: 1.000 - ETA: 0s - loss: 0.0018 - acc: 1.000 - ETA: 0s - loss: 0.0018 - acc: 1.000 - ETA: 0s - loss: 0.0017 - acc: 1.000 - ETA: 0s - loss: 0.0017 - acc: 1.000 - ETA: 0s - loss: 0.0017 - acc: 1.000 - ETA: 0s - loss: 0.0017 - acc: 1.000 - ETA: 0s - loss: 0.0017 - acc: 1.000 - ETA: 0s - loss: 0.0016 - acc: 1.000 - 1s 1ms/step - loss: 0.0016 - acc: 1.0000\n",
      "576/576 [==============================] - ETA:  - ETA:  - ETA:  - ETA:  - 0s 325us/step\n"
     ]
    },
    {
     "name": "stderr",
     "output_type": "stream",
     "text": [
      " 96%|█████████▌| 48/50 [01:22<00:03,  1.64s/it]"
     ]
    },
    {
     "name": "stdout",
     "output_type": "stream",
     "text": [
      "Epoch 1/1\n",
      "1344/1344 [==============================] - ETA: 1s - loss: 8.4844e-04 - acc: 1.000 - ETA: 1s - loss: 5.6528e-04 - acc: 1.000 - ETA: 1s - loss: 7.0582e-04 - acc: 1.000 - ETA: 1s - loss: 7.5431e-04 - acc: 1.000 - ETA: 1s - loss: 6.9504e-04 - acc: 1.000 - ETA: 1s - loss: 6.7091e-04 - acc: 1.000 - ETA: 0s - loss: 6.1710e-04 - acc: 1.000 - ETA: 0s - loss: 9.6862e-04 - acc: 1.000 - ETA: 0s - loss: 9.2514e-04 - acc: 1.000 - ETA: 0s - loss: 8.7780e-04 - acc: 1.000 - ETA: 0s - loss: 8.9144e-04 - acc: 1.000 - ETA: 0s - loss: 8.6074e-04 - acc: 1.000 - ETA: 0s - loss: 0.0010 - acc: 1.0000    - ETA: 0s - loss: 0.0011 - acc: 1.000 - ETA: 0s - loss: 0.0011 - acc: 1.000 - ETA: 0s - loss: 0.0010 - acc: 1.000 - ETA: 0s - loss: 0.0011 - acc: 1.000 - ETA: 0s - loss: 0.0011 - acc: 1.000 - ETA: 0s - loss: 0.0011 - acc: 1.000 - ETA: 0s - loss: 0.0011 - acc: 1.000 - ETA: 0s - loss: 0.0011 - acc: 1.000 - 1s 1ms/step - loss: 0.0011 - acc: 1.0000\n",
      "576/576 [==============================] - ETA:  - ETA:  - ETA:  - ETA:  - 0s 325us/step\n"
     ]
    },
    {
     "name": "stderr",
     "output_type": "stream",
     "text": [
      " 98%|█████████▊| 49/50 [01:24<00:01,  1.64s/it]"
     ]
    },
    {
     "name": "stdout",
     "output_type": "stream",
     "text": [
      "Epoch 1/1\n",
      "1344/1344 [==============================] - ETA: 1s - loss: 0.0022 - acc: 1.000 - ETA: 1s - loss: 0.0013 - acc: 1.000 - ETA: 1s - loss: 0.0012 - acc: 1.000 - ETA: 1s - loss: 0.0011 - acc: 1.000 - ETA: 1s - loss: 0.0013 - acc: 1.000 - ETA: 1s - loss: 0.0012 - acc: 1.000 - ETA: 0s - loss: 0.0015 - acc: 1.000 - ETA: 0s - loss: 0.0014 - acc: 1.000 - ETA: 0s - loss: 0.0016 - acc: 1.000 - ETA: 0s - loss: 0.0015 - acc: 1.000 - ETA: 0s - loss: 0.0015 - acc: 1.000 - ETA: 0s - loss: 0.0015 - acc: 1.000 - ETA: 0s - loss: 0.0015 - acc: 1.000 - ETA: 0s - loss: 0.0015 - acc: 1.000 - ETA: 0s - loss: 0.0017 - acc: 1.000 - ETA: 0s - loss: 0.0016 - acc: 1.000 - ETA: 0s - loss: 0.0017 - acc: 1.000 - ETA: 0s - loss: 0.0017 - acc: 1.000 - ETA: 0s - loss: 0.0016 - acc: 1.000 - ETA: 0s - loss: 0.0016 - acc: 1.000 - ETA: 0s - loss: 0.0017 - acc: 1.000 - 1s 1ms/step - loss: 0.0016 - acc: 1.0000\n",
      "576/576 [==============================] - ETA:  - ETA:  - ETA:  - ETA:  - 0s 327us/step\n"
     ]
    },
    {
     "name": "stderr",
     "output_type": "stream",
     "text": [
      "100%|██████████| 50/50 [01:26<00:00,  1.64s/it]\n"
     ]
    }
   ],
   "source": [
    "for i in tqdm(range(epochs)):\n",
    "    p = np.random.permutation(len(X_train))\n",
    "    X_train = X_train[p]\n",
    "    Y_train = Y_train[p]\n",
    "    model.fit(X_train, Y_train, batch_size=32, epochs=1)\n",
    "    loss, acc = model.evaluate(X_test, Y_test)\n",
    "    if acc > best_acc:\n",
    "                best_acc = acc"
   ]
  },
  {
   "cell_type": "code",
   "execution_count": 38,
   "metadata": {},
   "outputs": [
    {
     "name": "stdout",
     "output_type": "stream",
     "text": [
      "576/576 [==============================] - ETA:  - ETA:  - ETA:  - ETA:  - 0s 329us/step\n"
     ]
    },
    {
     "data": {
      "text/plain": [
       "[0.6234208510981666, 0.8459821475876702]"
      ]
     },
     "execution_count": 38,
     "metadata": {},
     "output_type": "execute_result"
    }
   ],
   "source": [
    "model.evaluate(X_test, Y_test)"
   ]
  },
  {
   "cell_type": "code",
   "execution_count": 39,
   "metadata": {},
   "outputs": [
    {
     "data": {
      "text/plain": [
       "0.8643353283405304"
      ]
     },
     "execution_count": 39,
     "metadata": {},
     "output_type": "execute_result"
    }
   ],
   "source": [
    "best_acc"
   ]
  },
  {
   "cell_type": "code",
   "execution_count": 40,
   "metadata": {},
   "outputs": [],
   "source": [
    "model.save_weights('VoiceEmo.h5')"
   ]
  },
  {
   "cell_type": "code",
   "execution_count": 41,
   "metadata": {},
   "outputs": [],
   "source": [
    "model.load_weights('VoiceEmo.h5')"
   ]
  },
  {
   "cell_type": "code",
   "execution_count": 82,
   "metadata": {},
   "outputs": [],
   "source": [
    "file = 'output.wav'"
   ]
  },
  {
   "cell_type": "code",
   "execution_count": 83,
   "metadata": {},
   "outputs": [],
   "source": [
    "X, sample_rate = librosa.load(file, res_type='kaiser_best',duration=2.5,sr=22050*2,offset=0.5)\n",
    "sample_rate = np.array(sample_rate)\n",
    "mfccs = librosa.feature.mfcc(y=X, sr=sample_rate, n_mfcc=39)\n",
    "feature = mfccs"
   ]
  },
  {
   "cell_type": "code",
   "execution_count": 84,
   "metadata": {},
   "outputs": [],
   "source": [
    "feature = feature.reshape(39, 216, 1)"
   ]
  },
  {
   "cell_type": "code",
   "execution_count": 85,
   "metadata": {},
   "outputs": [
    {
     "data": {
      "text/plain": [
       "'Disgust'"
      ]
     },
     "execution_count": 85,
     "metadata": {},
     "output_type": "execute_result"
    }
   ],
   "source": [
    "classLabels[np.argmax(model.predict(np.array([feature])))]"
   ]
  }
 ],
 "metadata": {
  "kernelspec": {
   "display_name": "Python 3",
   "language": "python",
   "name": "python3"
  },
  "language_info": {
   "codemirror_mode": {
    "name": "ipython",
    "version": 3
   },
   "file_extension": ".py",
   "mimetype": "text/x-python",
   "name": "python",
   "nbconvert_exporter": "python",
   "pygments_lexer": "ipython3",
   "version": "3.7.4"
  }
 },
 "nbformat": 4,
 "nbformat_minor": 4
}
